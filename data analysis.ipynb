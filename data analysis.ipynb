{
 "cells": [
  {
   "cell_type": "code",
   "execution_count": 161,
   "metadata": {},
   "outputs": [],
   "source": [
    "import pandas as pd\n",
    "import numpy as np\n",
    "import json\n",
    "import ast"
   ]
  },
  {
   "cell_type": "code",
   "execution_count": 78,
   "metadata": {},
   "outputs": [],
   "source": [
    "file = open(\"./Data/transactions - Copy - Copy.txt\")"
   ]
  },
  {
   "cell_type": "code",
   "execution_count": 82,
   "metadata": {},
   "outputs": [],
   "source": [
    "all_text=[]\n",
    "for i in range(0,786363):\n",
    "    content=[]\n",
    "    content = file.readlines(i)\n",
    "    all_text.append(content)"
   ]
  },
  {
   "cell_type": "code",
   "execution_count": 151,
   "metadata": {},
   "outputs": [
    {
     "data": {
      "text/plain": [
       "'{\"accountNumber\": \"737265056\", \"customerId\": \"737265056\", \"creditLimit\": 5000.0, \"availableMoney\": 5000.0, \"transactionDateTime\": \"2016-12-10T02:14:50\", \"transactionAmount\": 7.47, \"merchantName\": \"Play Store\", \"acqCountry\": \"US\", \"merchantCountryCode\": \"US\", \"posEntryMode\": \"09\", \"posConditionCode\": \"01\", \"merchantCategoryCode\": \"mobileapps\", \"currentExpDate\": \"08/2025\", \"accountOpenDate\": \"2015-03-14\", \"dateOfLastAddressChange\": \"2015-03-14\", \"cardCVV\": \"486\", \"enteredCVV\": \"486\", \"cardLast4Digits\": \"767\", \"transactionType\": \"PURCHASE\", \"echoBuffer\": \"\", \"currentBalance\": 0.0, \"merchantCity\": \"\", \"merchantState\": \"\", \"merchantZip\": \"\", \"cardPresent\": false, \"posOnPremises\": \"\", \"recurringAuthInd\": \"\", \"expirationDateKeyInMatch\": false, \"isFraud\": false}\\n'"
      ]
     },
     "execution_count": 151,
     "metadata": {},
     "output_type": "execute_result"
    }
   ],
   "source": [
    "all_text[0][0]"
   ]
  },
  {
   "cell_type": "code",
   "execution_count": 153,
   "metadata": {},
   "outputs": [
    {
     "data": {
      "text/plain": [
       "'{\"accountNumber\": \"830329091\", \"customerId\": \"830329091\", \"creditLimit\": 5000.0, \"availableMoney\": 5000.0, \"transactionDateTime\": \"2016-03-24T21:04:46\", \"transactionAmount\": 71.18, \"merchantName\": \"Tim Hortons #947751\", \"acqCountry\": \"US\", \"merchantCountryCode\": \"US\", \"posEntryMode\": \"02\", \"posConditionCode\": \"01\", \"merchantCategoryCode\": \"fastfood\", \"cardPresent\": true, \"currentExpDate\": \"10/2029\", \"accountOpenDate\": \"2015-08-06\", \"dateOfLastAddressChange\": \"2015-08-06\", \"cardCVV\": \"885\", \"enteredCVV\": \"885\", \"cardLast4Digits\": \"3143\", \"transactionType\": \"PURCHASE\", \"echoBuffer\": \"\", \"currentBalance\": 0.0, \"merchantCity\": \"\", \"merchantState\": \"\", \"merchantZip\": \"\", \"posOnPremises\": \"\", \"recurringAuthInd\": \"\", \"expirationDateKeyInMatch\": false, \"isFraud\": false}'"
      ]
     },
     "execution_count": 153,
     "metadata": {},
     "output_type": "execute_result"
    }
   ],
   "source": [
    "all_text[0][1][0:-1]"
   ]
  },
  {
   "cell_type": "code",
   "execution_count": 152,
   "metadata": {},
   "outputs": [
    {
     "data": {
      "text/plain": [
       "786363"
      ]
     },
     "execution_count": 152,
     "metadata": {},
     "output_type": "execute_result"
    }
   ],
   "source": [
    "len(all_text)"
   ]
  },
  {
   "cell_type": "code",
   "execution_count": 135,
   "metadata": {},
   "outputs": [],
   "source": [
    "dicts=[]\n",
    "for i in range(0,786359):\n",
    "    dict=all_text[0][i][0:-1]\n",
    "    dict=json.loads(dict)\n",
    "    dicts.append(dict)"
   ]
  },
  {
   "cell_type": "code",
   "execution_count": 158,
   "metadata": {},
   "outputs": [],
   "source": [
    "transactions=pd.DataFrame(dicts)\n",
    "transactions.to_csv('./Data/transactions.csv')"
   ]
  },
  {
   "cell_type": "code",
   "execution_count": 156,
   "metadata": {},
   "outputs": [
    {
     "data": {
      "text/html": [
       "<div>\n",
       "<style scoped>\n",
       "    .dataframe tbody tr th:only-of-type {\n",
       "        vertical-align: middle;\n",
       "    }\n",
       "\n",
       "    .dataframe tbody tr th {\n",
       "        vertical-align: top;\n",
       "    }\n",
       "\n",
       "    .dataframe thead th {\n",
       "        text-align: right;\n",
       "    }\n",
       "</style>\n",
       "<table border=\"1\" class=\"dataframe\">\n",
       "  <thead>\n",
       "    <tr style=\"text-align: right;\">\n",
       "      <th></th>\n",
       "      <th>accountNumber</th>\n",
       "      <th>customerId</th>\n",
       "      <th>creditLimit</th>\n",
       "      <th>availableMoney</th>\n",
       "      <th>transactionDateTime</th>\n",
       "      <th>transactionAmount</th>\n",
       "      <th>merchantName</th>\n",
       "      <th>acqCountry</th>\n",
       "      <th>merchantCountryCode</th>\n",
       "      <th>posEntryMode</th>\n",
       "      <th>...</th>\n",
       "      <th>echoBuffer</th>\n",
       "      <th>currentBalance</th>\n",
       "      <th>merchantCity</th>\n",
       "      <th>merchantState</th>\n",
       "      <th>merchantZip</th>\n",
       "      <th>cardPresent</th>\n",
       "      <th>posOnPremises</th>\n",
       "      <th>recurringAuthInd</th>\n",
       "      <th>expirationDateKeyInMatch</th>\n",
       "      <th>isFraud</th>\n",
       "    </tr>\n",
       "  </thead>\n",
       "  <tbody>\n",
       "    <tr>\n",
       "      <th>0</th>\n",
       "      <td>737265056</td>\n",
       "      <td>737265056</td>\n",
       "      <td>5000.0</td>\n",
       "      <td>5000.0</td>\n",
       "      <td>2016-12-10T02:14:50</td>\n",
       "      <td>7.47</td>\n",
       "      <td>Play Store</td>\n",
       "      <td>US</td>\n",
       "      <td>US</td>\n",
       "      <td>09</td>\n",
       "      <td>...</td>\n",
       "      <td></td>\n",
       "      <td>0.0</td>\n",
       "      <td></td>\n",
       "      <td></td>\n",
       "      <td></td>\n",
       "      <td>False</td>\n",
       "      <td></td>\n",
       "      <td></td>\n",
       "      <td>False</td>\n",
       "      <td>False</td>\n",
       "    </tr>\n",
       "    <tr>\n",
       "      <th>1</th>\n",
       "      <td>830329091</td>\n",
       "      <td>830329091</td>\n",
       "      <td>5000.0</td>\n",
       "      <td>5000.0</td>\n",
       "      <td>2016-03-24T21:04:46</td>\n",
       "      <td>71.18</td>\n",
       "      <td>Tim Hortons #947751</td>\n",
       "      <td>US</td>\n",
       "      <td>US</td>\n",
       "      <td>02</td>\n",
       "      <td>...</td>\n",
       "      <td></td>\n",
       "      <td>0.0</td>\n",
       "      <td></td>\n",
       "      <td></td>\n",
       "      <td></td>\n",
       "      <td>True</td>\n",
       "      <td></td>\n",
       "      <td></td>\n",
       "      <td>False</td>\n",
       "      <td>False</td>\n",
       "    </tr>\n",
       "    <tr>\n",
       "      <th>2</th>\n",
       "      <td>830329091</td>\n",
       "      <td>830329091</td>\n",
       "      <td>5000.0</td>\n",
       "      <td>5000.0</td>\n",
       "      <td>2016-04-19T16:24:27</td>\n",
       "      <td>30.76</td>\n",
       "      <td>In-N-Out #422833</td>\n",
       "      <td>US</td>\n",
       "      <td>US</td>\n",
       "      <td>02</td>\n",
       "      <td>...</td>\n",
       "      <td></td>\n",
       "      <td>0.0</td>\n",
       "      <td></td>\n",
       "      <td></td>\n",
       "      <td></td>\n",
       "      <td>True</td>\n",
       "      <td></td>\n",
       "      <td></td>\n",
       "      <td>False</td>\n",
       "      <td>False</td>\n",
       "    </tr>\n",
       "    <tr>\n",
       "      <th>3</th>\n",
       "      <td>830329091</td>\n",
       "      <td>830329091</td>\n",
       "      <td>5000.0</td>\n",
       "      <td>5000.0</td>\n",
       "      <td>2016-05-21T14:50:35</td>\n",
       "      <td>57.28</td>\n",
       "      <td>Krispy Kreme #685312</td>\n",
       "      <td>US</td>\n",
       "      <td>US</td>\n",
       "      <td>02</td>\n",
       "      <td>...</td>\n",
       "      <td></td>\n",
       "      <td>0.0</td>\n",
       "      <td></td>\n",
       "      <td></td>\n",
       "      <td></td>\n",
       "      <td>True</td>\n",
       "      <td></td>\n",
       "      <td></td>\n",
       "      <td>False</td>\n",
       "      <td>False</td>\n",
       "    </tr>\n",
       "    <tr>\n",
       "      <th>4</th>\n",
       "      <td>830329091</td>\n",
       "      <td>830329091</td>\n",
       "      <td>5000.0</td>\n",
       "      <td>5000.0</td>\n",
       "      <td>2016-06-03T00:31:21</td>\n",
       "      <td>9.37</td>\n",
       "      <td>Shake Shack #968081</td>\n",
       "      <td>US</td>\n",
       "      <td>US</td>\n",
       "      <td>05</td>\n",
       "      <td>...</td>\n",
       "      <td></td>\n",
       "      <td>0.0</td>\n",
       "      <td></td>\n",
       "      <td></td>\n",
       "      <td></td>\n",
       "      <td>True</td>\n",
       "      <td></td>\n",
       "      <td></td>\n",
       "      <td>False</td>\n",
       "      <td>False</td>\n",
       "    </tr>\n",
       "  </tbody>\n",
       "</table>\n",
       "<p>5 rows × 29 columns</p>\n",
       "</div>"
      ],
      "text/plain": [
       "  accountNumber customerId  creditLimit  availableMoney  transactionDateTime  \\\n",
       "0     737265056  737265056       5000.0          5000.0  2016-12-10T02:14:50   \n",
       "1     830329091  830329091       5000.0          5000.0  2016-03-24T21:04:46   \n",
       "2     830329091  830329091       5000.0          5000.0  2016-04-19T16:24:27   \n",
       "3     830329091  830329091       5000.0          5000.0  2016-05-21T14:50:35   \n",
       "4     830329091  830329091       5000.0          5000.0  2016-06-03T00:31:21   \n",
       "\n",
       "   transactionAmount          merchantName acqCountry merchantCountryCode  \\\n",
       "0               7.47            Play Store         US                  US   \n",
       "1              71.18   Tim Hortons #947751         US                  US   \n",
       "2              30.76      In-N-Out #422833         US                  US   \n",
       "3              57.28  Krispy Kreme #685312         US                  US   \n",
       "4               9.37   Shake Shack #968081         US                  US   \n",
       "\n",
       "  posEntryMode  ... echoBuffer currentBalance merchantCity merchantState  \\\n",
       "0           09  ...                       0.0                              \n",
       "1           02  ...                       0.0                              \n",
       "2           02  ...                       0.0                              \n",
       "3           02  ...                       0.0                              \n",
       "4           05  ...                       0.0                              \n",
       "\n",
       "  merchantZip cardPresent posOnPremises recurringAuthInd  \\\n",
       "0                   False                                  \n",
       "1                    True                                  \n",
       "2                    True                                  \n",
       "3                    True                                  \n",
       "4                    True                                  \n",
       "\n",
       "  expirationDateKeyInMatch isFraud  \n",
       "0                    False   False  \n",
       "1                    False   False  \n",
       "2                    False   False  \n",
       "3                    False   False  \n",
       "4                    False   False  \n",
       "\n",
       "[5 rows x 29 columns]"
      ]
     },
     "execution_count": 156,
     "metadata": {},
     "output_type": "execute_result"
    }
   ],
   "source": [
    "transactions=pd.read_csv('./Data/transactions.csv')\n",
    "transactions.head()"
   ]
  },
  {
   "cell_type": "code",
   "execution_count": 164,
   "metadata": {},
   "outputs": [
    {
     "name": "stdout",
     "output_type": "stream",
     "text": [
      "<class 'pandas.core.frame.DataFrame'>\n",
      "RangeIndex: 786359 entries, 0 to 786358\n",
      "Data columns (total 29 columns):\n",
      " #   Column                    Non-Null Count   Dtype         \n",
      "---  ------                    --------------   -----         \n",
      " 0   accountNumber             786359 non-null  object        \n",
      " 1   customerId                786359 non-null  object        \n",
      " 2   creditLimit               786359 non-null  float64       \n",
      " 3   availableMoney            786359 non-null  float64       \n",
      " 4   transactionDateTime       786359 non-null  datetime64[ns]\n",
      " 5   transactionAmount         786359 non-null  float64       \n",
      " 6   merchantName              786359 non-null  object        \n",
      " 7   acqCountry                786359 non-null  object        \n",
      " 8   merchantCountryCode       786359 non-null  object        \n",
      " 9   posEntryMode              786359 non-null  object        \n",
      " 10  posConditionCode          786359 non-null  object        \n",
      " 11  merchantCategoryCode      786359 non-null  object        \n",
      " 12  currentExpDate            786359 non-null  datetime64[ns]\n",
      " 13  accountOpenDate           786359 non-null  datetime64[ns]\n",
      " 14  dateOfLastAddressChange   786359 non-null  datetime64[ns]\n",
      " 15  cardCVV                   786359 non-null  object        \n",
      " 16  enteredCVV                786359 non-null  object        \n",
      " 17  cardLast4Digits           786359 non-null  object        \n",
      " 18  transactionType           786359 non-null  object        \n",
      " 19  echoBuffer                786359 non-null  object        \n",
      " 20  currentBalance            786359 non-null  float64       \n",
      " 21  merchantCity              786359 non-null  object        \n",
      " 22  merchantState             786359 non-null  object        \n",
      " 23  merchantZip               786359 non-null  object        \n",
      " 24  cardPresent               786359 non-null  bool          \n",
      " 25  posOnPremises             786359 non-null  object        \n",
      " 26  recurringAuthInd          786359 non-null  object        \n",
      " 27  expirationDateKeyInMatch  786359 non-null  bool          \n",
      " 28  isFraud                   786359 non-null  bool          \n",
      "dtypes: bool(3), datetime64[ns](4), float64(4), object(18)\n",
      "memory usage: 158.2+ MB\n"
     ]
    }
   ],
   "source": [
    "transactions.info()"
   ]
  },
  {
   "cell_type": "code",
   "execution_count": 159,
   "metadata": {},
   "outputs": [
    {
     "data": {
      "text/plain": [
       "customerId\n",
       "100088067     75\n",
       "100108752     18\n",
       "100328049    103\n",
       "100663626     31\n",
       "100737756    178\n",
       "            ... \n",
       "999086814    677\n",
       "999257059    160\n",
       "999258704     88\n",
       "999283629    141\n",
       "999389635      9\n",
       "Name: accountNumber, Length: 5000, dtype: int64"
      ]
     },
     "execution_count": 159,
     "metadata": {},
     "output_type": "execute_result"
    }
   ],
   "source": [
    "transactions.groupby('customerId')['accountNumber'].count()"
   ]
  },
  {
   "cell_type": "code",
   "execution_count": 163,
   "metadata": {},
   "outputs": [],
   "source": [
    "#converting type of relevant columns ti date time\n",
    "transactions['currentExpDate']=pd.to_datetime(transactions['currentExpDate'])\n",
    "transactions['accountOpenDate']=pd.to_datetime(transactions['accountOpenDate'])\n",
    "transactions['transactionDateTime']=pd.to_datetime(transactions['transactionDateTime'])\n",
    "transactions['dateOfLastAddressChange']=pd.to_datetime(transactions['dateOfLastAddressChange'])\n",
    "\n",
    "\n"
   ]
  },
  {
   "cell_type": "code",
   "execution_count": 165,
   "metadata": {},
   "outputs": [
    {
     "data": {
      "text/plain": [
       "creditLimit\n",
       "250.0       34025\n",
       "500.0       27097\n",
       "1000.0      36430\n",
       "2500.0      75429\n",
       "5000.0     201860\n",
       "7500.0      97913\n",
       "10000.0     56889\n",
       "15000.0    139307\n",
       "20000.0     68629\n",
       "50000.0     48780\n",
       "Name: creditLimit, dtype: int64"
      ]
     },
     "execution_count": 165,
     "metadata": {},
     "output_type": "execute_result"
    }
   ],
   "source": [
    "#creditLimit\n",
    "transactions.groupby('creditLimit')['creditLimit'].count()\n"
   ]
  },
  {
   "cell_type": "code",
   "execution_count": 166,
   "metadata": {},
   "outputs": [
    {
     "data": {
      "text/plain": [
       "availableMoney\n",
       "-1005.63        1\n",
       "-972.12         1\n",
       "-936.08         1\n",
       "-930.55         1\n",
       "-916.03         1\n",
       "             ... \n",
       " 49998.89       1\n",
       " 49999.43       1\n",
       " 49999.62       1\n",
       " 49999.72       1\n",
       " 50000.00    1207\n",
       "Name: availableMoney, Length: 521915, dtype: int64"
      ]
     },
     "execution_count": 166,
     "metadata": {},
     "output_type": "execute_result"
    }
   ],
   "source": [
    "#availableMoney\n",
    "transactions.groupby('availableMoney')['availableMoney'].count()\n"
   ]
  },
  {
   "cell_type": "code",
   "execution_count": 167,
   "metadata": {},
   "outputs": [
    {
     "data": {
      "text/plain": [
       "acqCountry\n",
       "         4562\n",
       "CAN      2424\n",
       "MEX      3130\n",
       "PR       1538\n",
       "US     774705\n",
       "Name: acqCountry, dtype: int64"
      ]
     },
     "execution_count": 167,
     "metadata": {},
     "output_type": "execute_result"
    }
   ],
   "source": [
    "#acqCountry\n",
    "transactions.groupby('acqCountry')['acqCountry'].count()\n"
   ]
  },
  {
   "cell_type": "code",
   "execution_count": 168,
   "metadata": {},
   "outputs": [
    {
     "data": {
      "text/plain": [
       "posEntryMode\n",
       "        4054\n",
       "02    195933\n",
       "05    315034\n",
       "09    236479\n",
       "80     15283\n",
       "90     19576\n",
       "Name: posEntryMode, dtype: int64"
      ]
     },
     "execution_count": 168,
     "metadata": {},
     "output_type": "execute_result"
    }
   ],
   "source": [
    "#posEntryMode\n",
    "transactions.groupby('posEntryMode')['posEntryMode'].count()\n"
   ]
  },
  {
   "cell_type": "code",
   "execution_count": 169,
   "metadata": {},
   "outputs": [
    {
     "data": {
      "text/plain": [
       "posConditionCode\n",
       "         409\n",
       "01    628783\n",
       "08    149634\n",
       "99      7533\n",
       "Name: posConditionCode, dtype: int64"
      ]
     },
     "execution_count": 169,
     "metadata": {},
     "output_type": "execute_result"
    }
   ],
   "source": [
    "#posConditionCode\n",
    "transactions.groupby('posConditionCode')['posConditionCode'].count()\n"
   ]
  },
  {
   "cell_type": "code",
   "execution_count": 170,
   "metadata": {},
   "outputs": [
    {
     "data": {
      "text/plain": [
       "merchantCategoryCode\n",
       "airline                  15412\n",
       "auto                     21651\n",
       "cable/phone               1382\n",
       "entertainment            80097\n",
       "fastfood                112138\n",
       "food                     75490\n",
       "food_delivery             6000\n",
       "fuel                     23910\n",
       "furniture                 7432\n",
       "gym                       2209\n",
       "health                   19092\n",
       "hotels                   34097\n",
       "mobileapps               14989\n",
       "online_gifts             66238\n",
       "online_retail           202156\n",
       "online_subscriptions     11067\n",
       "personal care            18964\n",
       "rideshare                51134\n",
       "subscriptions            22901\n",
       "Name: merchantCategoryCode, dtype: int64"
      ]
     },
     "execution_count": 170,
     "metadata": {},
     "output_type": "execute_result"
    }
   ],
   "source": [
    "#merchantCategoryCode\n",
    "transactions.groupby('merchantCategoryCode')['merchantCategoryCode'].count()\n"
   ]
  },
  {
   "cell_type": "code",
   "execution_count": 171,
   "metadata": {},
   "outputs": [
    {
     "data": {
      "text/plain": [
       "transactionType\n",
       "                           698\n",
       "ADDRESS_VERIFICATION     20169\n",
       "PURCHASE                745189\n",
       "REVERSAL                 20303\n",
       "Name: transactionType, dtype: int64"
      ]
     },
     "execution_count": 171,
     "metadata": {},
     "output_type": "execute_result"
    }
   ],
   "source": [
    "#transactionType\n",
    "transactions.groupby('transactionType')['transactionType'].count()\n"
   ]
  },
  {
   "cell_type": "code",
   "execution_count": 172,
   "metadata": {},
   "outputs": [
    {
     "data": {
      "text/plain": [
       "echoBuffer\n",
       "    786359\n",
       "Name: echoBuffer, dtype: int64"
      ]
     },
     "execution_count": 172,
     "metadata": {},
     "output_type": "execute_result"
    }
   ],
   "source": [
    "#echoBuffer\n",
    "transactions.groupby('echoBuffer')['echoBuffer'].count()\n"
   ]
  },
  {
   "cell_type": "code",
   "execution_count": 174,
   "metadata": {},
   "outputs": [
    {
     "data": {
      "text/plain": [
       "0          \n",
       "1          \n",
       "2          \n",
       "3          \n",
       "4          \n",
       "         ..\n",
       "786354     \n",
       "786355     \n",
       "786356     \n",
       "786357     \n",
       "786358     \n",
       "Name: echoBuffer, Length: 786359, dtype: object"
      ]
     },
     "execution_count": 174,
     "metadata": {},
     "output_type": "execute_result"
    }
   ],
   "source": [
    "transactions['echoBuffer']"
   ]
  },
  {
   "cell_type": "code",
   "execution_count": 173,
   "metadata": {},
   "outputs": [
    {
     "data": {
      "text/plain": [
       "merchantCity\n",
       "    786359\n",
       "Name: merchantCity, dtype: int64"
      ]
     },
     "execution_count": 173,
     "metadata": {},
     "output_type": "execute_result"
    }
   ],
   "source": [
    "#merchantCity\n",
    "transactions.groupby('merchantCity')['merchantCity'].count()\n"
   ]
  },
  {
   "cell_type": "code",
   "execution_count": 175,
   "metadata": {},
   "outputs": [
    {
     "data": {
      "text/plain": [
       "0          \n",
       "1          \n",
       "2          \n",
       "3          \n",
       "4          \n",
       "         ..\n",
       "786354     \n",
       "786355     \n",
       "786356     \n",
       "786357     \n",
       "786358     \n",
       "Name: merchantCity, Length: 786359, dtype: object"
      ]
     },
     "execution_count": 175,
     "metadata": {},
     "output_type": "execute_result"
    }
   ],
   "source": [
    "transactions['merchantCity']"
   ]
  },
  {
   "cell_type": "code",
   "execution_count": 176,
   "metadata": {},
   "outputs": [
    {
     "data": {
      "text/plain": [
       "merchantState\n",
       "    786359\n",
       "Name: merchantState, dtype: int64"
      ]
     },
     "execution_count": 176,
     "metadata": {},
     "output_type": "execute_result"
    }
   ],
   "source": [
    "#merchantState\n",
    "transactions.groupby('merchantState')['merchantState'].count()\n"
   ]
  },
  {
   "cell_type": "code",
   "execution_count": 183,
   "metadata": {},
   "outputs": [
    {
     "data": {
      "text/plain": [
       "merchantZip\n",
       "    786359\n",
       "Name: merchantZip, dtype: int64"
      ]
     },
     "execution_count": 183,
     "metadata": {},
     "output_type": "execute_result"
    }
   ],
   "source": [
    "#merchantZip\n",
    "transactions.groupby('merchantZip')['merchantZip'].count()\n"
   ]
  },
  {
   "cell_type": "code",
   "execution_count": 177,
   "metadata": {},
   "outputs": [
    {
     "data": {
      "text/plain": [
       "cardPresent\n",
       "False    433492\n",
       "True     352867\n",
       "Name: cardPresent, dtype: int64"
      ]
     },
     "execution_count": 177,
     "metadata": {},
     "output_type": "execute_result"
    }
   ],
   "source": [
    "#cardPresent\n",
    "transactions.groupby('cardPresent')['cardPresent'].count()\n"
   ]
  },
  {
   "cell_type": "code",
   "execution_count": 178,
   "metadata": {},
   "outputs": [
    {
     "data": {
      "text/plain": [
       "posOnPremises\n",
       "    786359\n",
       "Name: posOnPremises, dtype: int64"
      ]
     },
     "execution_count": 178,
     "metadata": {},
     "output_type": "execute_result"
    }
   ],
   "source": [
    "#posOnPremises\n",
    "transactions.groupby('posOnPremises')['posOnPremises'].count()\n"
   ]
  },
  {
   "cell_type": "code",
   "execution_count": 179,
   "metadata": {},
   "outputs": [
    {
     "data": {
      "text/plain": [
       "recurringAuthInd\n",
       "    786359\n",
       "Name: recurringAuthInd, dtype: int64"
      ]
     },
     "execution_count": 179,
     "metadata": {},
     "output_type": "execute_result"
    }
   ],
   "source": [
    "#recurringAuthInd\n",
    "transactions.groupby('recurringAuthInd')['recurringAuthInd'].count()\n"
   ]
  },
  {
   "cell_type": "code",
   "execution_count": 180,
   "metadata": {},
   "outputs": [
    {
     "data": {
      "text/plain": [
       "expirationDateKeyInMatch\n",
       "False    785316\n",
       "True       1043\n",
       "Name: expirationDateKeyInMatch, dtype: int64"
      ]
     },
     "execution_count": 180,
     "metadata": {},
     "output_type": "execute_result"
    }
   ],
   "source": [
    "#expirationDateKeyInMatch\n",
    "transactions.groupby('expirationDateKeyInMatch')['expirationDateKeyInMatch'].count()"
   ]
  },
  {
   "cell_type": "code",
   "execution_count": 186,
   "metadata": {},
   "outputs": [
    {
     "data": {
      "text/plain": [
       "isFraud\n",
       "False    773942\n",
       "True      12417\n",
       "Name: isFraud, dtype: int64"
      ]
     },
     "execution_count": 186,
     "metadata": {},
     "output_type": "execute_result"
    }
   ],
   "source": [
    "#isFraud\n",
    "transactions.groupby('isFraud')['isFraud'].count()"
   ]
  },
  {
   "cell_type": "code",
   "execution_count": 181,
   "metadata": {},
   "outputs": [],
   "source": [
    "transactions=transactions.drop(['echoBuffer','merchantZip','merchantCity','merchantState','posOnPremises','recurringAuthInd'],axis=1)"
   ]
  },
  {
   "cell_type": "code",
   "execution_count": 185,
   "metadata": {},
   "outputs": [
    {
     "data": {
      "text/html": [
       "<div>\n",
       "<style scoped>\n",
       "    .dataframe tbody tr th:only-of-type {\n",
       "        vertical-align: middle;\n",
       "    }\n",
       "\n",
       "    .dataframe tbody tr th {\n",
       "        vertical-align: top;\n",
       "    }\n",
       "\n",
       "    .dataframe thead th {\n",
       "        text-align: right;\n",
       "    }\n",
       "</style>\n",
       "<table border=\"1\" class=\"dataframe\">\n",
       "  <thead>\n",
       "    <tr style=\"text-align: right;\">\n",
       "      <th></th>\n",
       "      <th>accountNumber</th>\n",
       "      <th>customerId</th>\n",
       "      <th>creditLimit</th>\n",
       "      <th>availableMoney</th>\n",
       "      <th>transactionDateTime</th>\n",
       "      <th>transactionAmount</th>\n",
       "      <th>merchantName</th>\n",
       "      <th>acqCountry</th>\n",
       "      <th>merchantCountryCode</th>\n",
       "      <th>posEntryMode</th>\n",
       "      <th>...</th>\n",
       "      <th>accountOpenDate</th>\n",
       "      <th>dateOfLastAddressChange</th>\n",
       "      <th>cardCVV</th>\n",
       "      <th>enteredCVV</th>\n",
       "      <th>cardLast4Digits</th>\n",
       "      <th>transactionType</th>\n",
       "      <th>currentBalance</th>\n",
       "      <th>cardPresent</th>\n",
       "      <th>expirationDateKeyInMatch</th>\n",
       "      <th>isFraud</th>\n",
       "    </tr>\n",
       "  </thead>\n",
       "  <tbody>\n",
       "    <tr>\n",
       "      <th>0</th>\n",
       "      <td>737265056</td>\n",
       "      <td>737265056</td>\n",
       "      <td>5000.0</td>\n",
       "      <td>5000.0</td>\n",
       "      <td>2016-12-10 02:14:50</td>\n",
       "      <td>7.47</td>\n",
       "      <td>Play Store</td>\n",
       "      <td>US</td>\n",
       "      <td>US</td>\n",
       "      <td>09</td>\n",
       "      <td>...</td>\n",
       "      <td>2015-03-14</td>\n",
       "      <td>2015-03-14</td>\n",
       "      <td>486</td>\n",
       "      <td>486</td>\n",
       "      <td>767</td>\n",
       "      <td>PURCHASE</td>\n",
       "      <td>0.0</td>\n",
       "      <td>False</td>\n",
       "      <td>False</td>\n",
       "      <td>False</td>\n",
       "    </tr>\n",
       "    <tr>\n",
       "      <th>1</th>\n",
       "      <td>830329091</td>\n",
       "      <td>830329091</td>\n",
       "      <td>5000.0</td>\n",
       "      <td>5000.0</td>\n",
       "      <td>2016-03-24 21:04:46</td>\n",
       "      <td>71.18</td>\n",
       "      <td>Tim Hortons #947751</td>\n",
       "      <td>US</td>\n",
       "      <td>US</td>\n",
       "      <td>02</td>\n",
       "      <td>...</td>\n",
       "      <td>2015-08-06</td>\n",
       "      <td>2015-08-06</td>\n",
       "      <td>885</td>\n",
       "      <td>885</td>\n",
       "      <td>3143</td>\n",
       "      <td>PURCHASE</td>\n",
       "      <td>0.0</td>\n",
       "      <td>True</td>\n",
       "      <td>False</td>\n",
       "      <td>False</td>\n",
       "    </tr>\n",
       "    <tr>\n",
       "      <th>2</th>\n",
       "      <td>830329091</td>\n",
       "      <td>830329091</td>\n",
       "      <td>5000.0</td>\n",
       "      <td>5000.0</td>\n",
       "      <td>2016-04-19 16:24:27</td>\n",
       "      <td>30.76</td>\n",
       "      <td>In-N-Out #422833</td>\n",
       "      <td>US</td>\n",
       "      <td>US</td>\n",
       "      <td>02</td>\n",
       "      <td>...</td>\n",
       "      <td>2015-08-06</td>\n",
       "      <td>2015-08-06</td>\n",
       "      <td>885</td>\n",
       "      <td>885</td>\n",
       "      <td>3143</td>\n",
       "      <td>PURCHASE</td>\n",
       "      <td>0.0</td>\n",
       "      <td>True</td>\n",
       "      <td>False</td>\n",
       "      <td>False</td>\n",
       "    </tr>\n",
       "    <tr>\n",
       "      <th>3</th>\n",
       "      <td>830329091</td>\n",
       "      <td>830329091</td>\n",
       "      <td>5000.0</td>\n",
       "      <td>5000.0</td>\n",
       "      <td>2016-05-21 14:50:35</td>\n",
       "      <td>57.28</td>\n",
       "      <td>Krispy Kreme #685312</td>\n",
       "      <td>US</td>\n",
       "      <td>US</td>\n",
       "      <td>02</td>\n",
       "      <td>...</td>\n",
       "      <td>2015-08-06</td>\n",
       "      <td>2015-08-06</td>\n",
       "      <td>885</td>\n",
       "      <td>885</td>\n",
       "      <td>3143</td>\n",
       "      <td>PURCHASE</td>\n",
       "      <td>0.0</td>\n",
       "      <td>True</td>\n",
       "      <td>False</td>\n",
       "      <td>False</td>\n",
       "    </tr>\n",
       "    <tr>\n",
       "      <th>4</th>\n",
       "      <td>830329091</td>\n",
       "      <td>830329091</td>\n",
       "      <td>5000.0</td>\n",
       "      <td>5000.0</td>\n",
       "      <td>2016-06-03 00:31:21</td>\n",
       "      <td>9.37</td>\n",
       "      <td>Shake Shack #968081</td>\n",
       "      <td>US</td>\n",
       "      <td>US</td>\n",
       "      <td>05</td>\n",
       "      <td>...</td>\n",
       "      <td>2015-08-06</td>\n",
       "      <td>2015-08-06</td>\n",
       "      <td>885</td>\n",
       "      <td>885</td>\n",
       "      <td>3143</td>\n",
       "      <td>PURCHASE</td>\n",
       "      <td>0.0</td>\n",
       "      <td>True</td>\n",
       "      <td>False</td>\n",
       "      <td>False</td>\n",
       "    </tr>\n",
       "  </tbody>\n",
       "</table>\n",
       "<p>5 rows × 23 columns</p>\n",
       "</div>"
      ],
      "text/plain": [
       "  accountNumber customerId  creditLimit  availableMoney transactionDateTime  \\\n",
       "0     737265056  737265056       5000.0          5000.0 2016-12-10 02:14:50   \n",
       "1     830329091  830329091       5000.0          5000.0 2016-03-24 21:04:46   \n",
       "2     830329091  830329091       5000.0          5000.0 2016-04-19 16:24:27   \n",
       "3     830329091  830329091       5000.0          5000.0 2016-05-21 14:50:35   \n",
       "4     830329091  830329091       5000.0          5000.0 2016-06-03 00:31:21   \n",
       "\n",
       "   transactionAmount          merchantName acqCountry merchantCountryCode  \\\n",
       "0               7.47            Play Store         US                  US   \n",
       "1              71.18   Tim Hortons #947751         US                  US   \n",
       "2              30.76      In-N-Out #422833         US                  US   \n",
       "3              57.28  Krispy Kreme #685312         US                  US   \n",
       "4               9.37   Shake Shack #968081         US                  US   \n",
       "\n",
       "  posEntryMode  ... accountOpenDate dateOfLastAddressChange cardCVV  \\\n",
       "0           09  ...      2015-03-14              2015-03-14     486   \n",
       "1           02  ...      2015-08-06              2015-08-06     885   \n",
       "2           02  ...      2015-08-06              2015-08-06     885   \n",
       "3           02  ...      2015-08-06              2015-08-06     885   \n",
       "4           05  ...      2015-08-06              2015-08-06     885   \n",
       "\n",
       "  enteredCVV cardLast4Digits transactionType currentBalance cardPresent  \\\n",
       "0        486             767        PURCHASE            0.0       False   \n",
       "1        885            3143        PURCHASE            0.0        True   \n",
       "2        885            3143        PURCHASE            0.0        True   \n",
       "3        885            3143        PURCHASE            0.0        True   \n",
       "4        885            3143        PURCHASE            0.0        True   \n",
       "\n",
       "  expirationDateKeyInMatch  isFraud  \n",
       "0                    False    False  \n",
       "1                    False    False  \n",
       "2                    False    False  \n",
       "3                    False    False  \n",
       "4                    False    False  \n",
       "\n",
       "[5 rows x 23 columns]"
      ]
     },
     "execution_count": 185,
     "metadata": {},
     "output_type": "execute_result"
    }
   ],
   "source": [
    "transactions.head()"
   ]
  },
  {
   "cell_type": "code",
   "execution_count": null,
   "metadata": {},
   "outputs": [],
   "source": []
  }
 ],
 "metadata": {
  "interpreter": {
   "hash": "861e7fac2ba2b6f9d64ead0503e46283684408d87c21528cf77f10639b9bcb80"
  },
  "kernelspec": {
   "display_name": "Python 3.9.9 64-bit (windows store)",
   "language": "python",
   "name": "python3"
  },
  "language_info": {
   "codemirror_mode": {
    "name": "ipython",
    "version": 3
   },
   "file_extension": ".py",
   "mimetype": "text/x-python",
   "name": "python",
   "nbconvert_exporter": "python",
   "pygments_lexer": "ipython3",
   "version": "3.9.7"
  },
  "orig_nbformat": 4
 },
 "nbformat": 4,
 "nbformat_minor": 2
}
