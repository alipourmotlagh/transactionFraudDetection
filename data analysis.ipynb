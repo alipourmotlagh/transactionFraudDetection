{
 "cells": [
  {
   "cell_type": "code",
   "execution_count": 3,
   "metadata": {},
   "outputs": [],
   "source": [
    "import pandas as pd\n",
    "import numpy as np\n",
    "import json\n",
    "import ast\n",
    "\n",
    "# Import Pandas for data manipulation purposes \n",
    "\n",
    "import seaborn as sns\n",
    "import matplotlib.pyplot as plt\n",
    "from sklearn.model_selection import train_test_split\n",
    "\n",
    "#Logistic Regression\n",
    "from sklearn.linear_model import LogisticRegression\n",
    "\n",
    "#Decision TREES\n",
    "from sklearn.tree import DecisionTreeClassifier\n",
    "\n",
    "# regularized regression with Ridge absolute value alpha\n",
    "from sklearn.linear_model import Lasso\n",
    "\n",
    "\n",
    "#for confusion matrix\n",
    "from sklearn.metrics import confusion_matrix\n",
    "#for having clasification reports\n",
    "from sklearn.metrics import classification_report\n",
    "#ROC curve for analyzing Logistic regression\n",
    "from sklearn.metrics import roc_curve\n",
    "# Cross Validation Score\n",
    "from sklearn.model_selection import cross_val_score\n",
    "# Calculate AUC Score\n",
    "from sklearn.metrics import roc_auc_score\n",
    "\n",
    "# Correlation Matrix\n",
    "\n",
    "import seaborn as sns\n",
    "import numpy as np\n",
    "import matplotlib.pyplot as plt"
   ]
  },
  {
   "cell_type": "code",
   "execution_count": 48,
   "metadata": {},
   "outputs": [],
   "source": [
    "file = open(\"C:/Users/malipourmotlagh1/Desktop/mot/ABSOLUTE MEAN/MOTENAQEZ/Transactions fraud detection/Data/transactions - Copy - Copy.txt\")"
   ]
  },
  {
   "cell_type": "code",
   "execution_count": 49,
   "metadata": {},
   "outputs": [],
   "source": [
    "all_text=[]\n",
    "for i in range(0,786363):\n",
    "    content=[]\n",
    "    content = file.readlines(i)\n",
    "    all_text.append(content)"
   ]
  },
  {
   "cell_type": "code",
   "execution_count": 50,
   "metadata": {},
   "outputs": [
    {
     "data": {
      "text/plain": [
       "'{\"accountNumber\": \"737265056\", \"customerId\": \"737265056\", \"creditLimit\": 5000.0, \"availableMoney\": 5000.0, \"transactionDateTime\": \"2016-08-13T14:27:32\", \"transactionAmount\": 98.55, \"merchantName\": \"Uber\", \"acqCountry\": \"US\", \"merchantCountryCode\": \"US\", \"posEntryMode\": \"02\", \"posConditionCode\": \"01\", \"merchantCategoryCode\": \"rideshare\", \"currentExpDate\": \"06/2023\", \"accountOpenDate\": \"2015-03-14\", \"dateOfLastAddressChange\": \"2015-03-14\", \"cardCVV\": \"414\", \"enteredCVV\": \"414\", \"cardLast4Digits\": \"1803\", \"transactionType\": \"PURCHASE\", \"echoBuffer\": \"\", \"currentBalance\": 0.0, \"merchantCity\": \"\", \"merchantState\": \"\", \"merchantZip\": \"\", \"cardPresent\": false, \"posOnPremises\": \"\", \"recurringAuthInd\": \"\", \"expirationDateKeyInMatch\": false, \"isFraud\": false}\\n'"
      ]
     },
     "execution_count": 50,
     "metadata": {},
     "output_type": "execute_result"
    }
   ],
   "source": [
    "all_text[0][0]"
   ]
  },
  {
   "cell_type": "code",
   "execution_count": 51,
   "metadata": {},
   "outputs": [
    {
     "data": {
      "text/plain": [
       "'{\"accountNumber\": \"737265056\", \"customerId\": \"737265056\", \"creditLimit\": 5000.0, \"availableMoney\": 5000.0, \"transactionDateTime\": \"2016-10-11T05:05:54\", \"transactionAmount\": 74.51, \"merchantName\": \"AMC #191138\", \"acqCountry\": \"US\", \"merchantCountryCode\": \"US\", \"posEntryMode\": \"09\", \"posConditionCode\": \"01\", \"merchantCategoryCode\": \"entertainment\", \"cardPresent\": true, \"currentExpDate\": \"02/2024\", \"accountOpenDate\": \"2015-03-14\", \"dateOfLastAddressChange\": \"2015-03-14\", \"cardCVV\": \"486\", \"enteredCVV\": \"486\", \"cardLast4Digits\": \"767\", \"transactionType\": \"PURCHASE\", \"echoBuffer\": \"\", \"currentBalance\": 0.0, \"merchantCity\": \"\", \"merchantState\": \"\", \"merchantZip\": \"\", \"posOnPremises\": \"\", \"recurringAuthInd\": \"\", \"expirationDateKeyInMatch\": false, \"isFraud\": false}'"
      ]
     },
     "execution_count": 51,
     "metadata": {},
     "output_type": "execute_result"
    }
   ],
   "source": [
    "all_text[0][1][0:-1]"
   ]
  },
  {
   "cell_type": "code",
   "execution_count": 52,
   "metadata": {},
   "outputs": [
    {
     "data": {
      "text/plain": [
       "786363"
      ]
     },
     "execution_count": 52,
     "metadata": {},
     "output_type": "execute_result"
    }
   ],
   "source": [
    "len(all_text)"
   ]
  },
  {
   "cell_type": "code",
   "execution_count": 53,
   "metadata": {},
   "outputs": [],
   "source": [
    "dicts=[]\n",
    "for i in range(0,786359):\n",
    "    dict=all_text[0][i][0:-1]\n",
    "    dict=json.loads(dict)\n",
    "    dicts.append(dict)"
   ]
  },
  {
   "cell_type": "code",
   "execution_count": 54,
   "metadata": {},
   "outputs": [],
   "source": [
    "transactions=pd.DataFrame(dicts)\n",
    "transactions.to_csv('C:/Users/malipourmotlagh1/Desktop/mot/ABSOLUTE MEAN/MOTENAQEZ/Transactions fraud detection/Data/transactions.csv')"
   ]
  },
  {
   "cell_type": "code",
   "execution_count": 55,
   "metadata": {},
   "outputs": [
    {
     "data": {
      "text/html": [
       "<div>\n",
       "<style scoped>\n",
       "    .dataframe tbody tr th:only-of-type {\n",
       "        vertical-align: middle;\n",
       "    }\n",
       "\n",
       "    .dataframe tbody tr th {\n",
       "        vertical-align: top;\n",
       "    }\n",
       "\n",
       "    .dataframe thead th {\n",
       "        text-align: right;\n",
       "    }\n",
       "</style>\n",
       "<table border=\"1\" class=\"dataframe\">\n",
       "  <thead>\n",
       "    <tr style=\"text-align: right;\">\n",
       "      <th></th>\n",
       "      <th>Unnamed: 0</th>\n",
       "      <th>accountNumber</th>\n",
       "      <th>customerId</th>\n",
       "      <th>creditLimit</th>\n",
       "      <th>availableMoney</th>\n",
       "      <th>transactionDateTime</th>\n",
       "      <th>transactionAmount</th>\n",
       "      <th>merchantName</th>\n",
       "      <th>acqCountry</th>\n",
       "      <th>merchantCountryCode</th>\n",
       "      <th>...</th>\n",
       "      <th>echoBuffer</th>\n",
       "      <th>currentBalance</th>\n",
       "      <th>merchantCity</th>\n",
       "      <th>merchantState</th>\n",
       "      <th>merchantZip</th>\n",
       "      <th>cardPresent</th>\n",
       "      <th>posOnPremises</th>\n",
       "      <th>recurringAuthInd</th>\n",
       "      <th>expirationDateKeyInMatch</th>\n",
       "      <th>isFraud</th>\n",
       "    </tr>\n",
       "  </thead>\n",
       "  <tbody>\n",
       "    <tr>\n",
       "      <th>0</th>\n",
       "      <td>0</td>\n",
       "      <td>737265056</td>\n",
       "      <td>737265056</td>\n",
       "      <td>5000.0</td>\n",
       "      <td>5000.0</td>\n",
       "      <td>2016-08-13T14:27:32</td>\n",
       "      <td>98.55</td>\n",
       "      <td>Uber</td>\n",
       "      <td>US</td>\n",
       "      <td>US</td>\n",
       "      <td>...</td>\n",
       "      <td>NaN</td>\n",
       "      <td>0.0</td>\n",
       "      <td>NaN</td>\n",
       "      <td>NaN</td>\n",
       "      <td>NaN</td>\n",
       "      <td>False</td>\n",
       "      <td>NaN</td>\n",
       "      <td>NaN</td>\n",
       "      <td>False</td>\n",
       "      <td>False</td>\n",
       "    </tr>\n",
       "    <tr>\n",
       "      <th>1</th>\n",
       "      <td>1</td>\n",
       "      <td>737265056</td>\n",
       "      <td>737265056</td>\n",
       "      <td>5000.0</td>\n",
       "      <td>5000.0</td>\n",
       "      <td>2016-10-11T05:05:54</td>\n",
       "      <td>74.51</td>\n",
       "      <td>AMC #191138</td>\n",
       "      <td>US</td>\n",
       "      <td>US</td>\n",
       "      <td>...</td>\n",
       "      <td>NaN</td>\n",
       "      <td>0.0</td>\n",
       "      <td>NaN</td>\n",
       "      <td>NaN</td>\n",
       "      <td>NaN</td>\n",
       "      <td>True</td>\n",
       "      <td>NaN</td>\n",
       "      <td>NaN</td>\n",
       "      <td>False</td>\n",
       "      <td>False</td>\n",
       "    </tr>\n",
       "    <tr>\n",
       "      <th>2</th>\n",
       "      <td>2</td>\n",
       "      <td>737265056</td>\n",
       "      <td>737265056</td>\n",
       "      <td>5000.0</td>\n",
       "      <td>5000.0</td>\n",
       "      <td>2016-11-08T09:18:39</td>\n",
       "      <td>7.47</td>\n",
       "      <td>Play Store</td>\n",
       "      <td>US</td>\n",
       "      <td>US</td>\n",
       "      <td>...</td>\n",
       "      <td>NaN</td>\n",
       "      <td>0.0</td>\n",
       "      <td>NaN</td>\n",
       "      <td>NaN</td>\n",
       "      <td>NaN</td>\n",
       "      <td>False</td>\n",
       "      <td>NaN</td>\n",
       "      <td>NaN</td>\n",
       "      <td>False</td>\n",
       "      <td>False</td>\n",
       "    </tr>\n",
       "    <tr>\n",
       "      <th>3</th>\n",
       "      <td>3</td>\n",
       "      <td>737265056</td>\n",
       "      <td>737265056</td>\n",
       "      <td>5000.0</td>\n",
       "      <td>5000.0</td>\n",
       "      <td>2016-12-10T02:14:50</td>\n",
       "      <td>7.47</td>\n",
       "      <td>Play Store</td>\n",
       "      <td>US</td>\n",
       "      <td>US</td>\n",
       "      <td>...</td>\n",
       "      <td>NaN</td>\n",
       "      <td>0.0</td>\n",
       "      <td>NaN</td>\n",
       "      <td>NaN</td>\n",
       "      <td>NaN</td>\n",
       "      <td>False</td>\n",
       "      <td>NaN</td>\n",
       "      <td>NaN</td>\n",
       "      <td>False</td>\n",
       "      <td>False</td>\n",
       "    </tr>\n",
       "    <tr>\n",
       "      <th>4</th>\n",
       "      <td>4</td>\n",
       "      <td>830329091</td>\n",
       "      <td>830329091</td>\n",
       "      <td>5000.0</td>\n",
       "      <td>5000.0</td>\n",
       "      <td>2016-03-24T21:04:46</td>\n",
       "      <td>71.18</td>\n",
       "      <td>Tim Hortons #947751</td>\n",
       "      <td>US</td>\n",
       "      <td>US</td>\n",
       "      <td>...</td>\n",
       "      <td>NaN</td>\n",
       "      <td>0.0</td>\n",
       "      <td>NaN</td>\n",
       "      <td>NaN</td>\n",
       "      <td>NaN</td>\n",
       "      <td>True</td>\n",
       "      <td>NaN</td>\n",
       "      <td>NaN</td>\n",
       "      <td>False</td>\n",
       "      <td>False</td>\n",
       "    </tr>\n",
       "  </tbody>\n",
       "</table>\n",
       "<p>5 rows × 30 columns</p>\n",
       "</div>"
      ],
      "text/plain": [
       "   Unnamed: 0  accountNumber  customerId  creditLimit  availableMoney  \\\n",
       "0           0      737265056   737265056       5000.0          5000.0   \n",
       "1           1      737265056   737265056       5000.0          5000.0   \n",
       "2           2      737265056   737265056       5000.0          5000.0   \n",
       "3           3      737265056   737265056       5000.0          5000.0   \n",
       "4           4      830329091   830329091       5000.0          5000.0   \n",
       "\n",
       "   transactionDateTime  transactionAmount         merchantName acqCountry  \\\n",
       "0  2016-08-13T14:27:32              98.55                 Uber         US   \n",
       "1  2016-10-11T05:05:54              74.51          AMC #191138         US   \n",
       "2  2016-11-08T09:18:39               7.47           Play Store         US   \n",
       "3  2016-12-10T02:14:50               7.47           Play Store         US   \n",
       "4  2016-03-24T21:04:46              71.18  Tim Hortons #947751         US   \n",
       "\n",
       "  merchantCountryCode  ...  echoBuffer  currentBalance merchantCity  \\\n",
       "0                  US  ...         NaN             0.0          NaN   \n",
       "1                  US  ...         NaN             0.0          NaN   \n",
       "2                  US  ...         NaN             0.0          NaN   \n",
       "3                  US  ...         NaN             0.0          NaN   \n",
       "4                  US  ...         NaN             0.0          NaN   \n",
       "\n",
       "  merchantState merchantZip cardPresent  posOnPremises  recurringAuthInd  \\\n",
       "0           NaN         NaN       False            NaN               NaN   \n",
       "1           NaN         NaN        True            NaN               NaN   \n",
       "2           NaN         NaN       False            NaN               NaN   \n",
       "3           NaN         NaN       False            NaN               NaN   \n",
       "4           NaN         NaN        True            NaN               NaN   \n",
       "\n",
       "   expirationDateKeyInMatch isFraud  \n",
       "0                     False   False  \n",
       "1                     False   False  \n",
       "2                     False   False  \n",
       "3                     False   False  \n",
       "4                     False   False  \n",
       "\n",
       "[5 rows x 30 columns]"
      ]
     },
     "execution_count": 55,
     "metadata": {},
     "output_type": "execute_result"
    }
   ],
   "source": [
    "transactions=pd.read_csv('C:/Users/malipourmotlagh1/Desktop/mot/ABSOLUTE MEAN/MOTENAQEZ/Transactions fraud detection/Data/transactions.csv')\n",
    "transactions.head()"
   ]
  },
  {
   "cell_type": "code",
   "execution_count": 56,
   "metadata": {},
   "outputs": [
    {
     "name": "stdout",
     "output_type": "stream",
     "text": [
      "<class 'pandas.core.frame.DataFrame'>\n",
      "RangeIndex: 786359 entries, 0 to 786358\n",
      "Data columns (total 30 columns):\n",
      " #   Column                    Non-Null Count   Dtype  \n",
      "---  ------                    --------------   -----  \n",
      " 0   Unnamed: 0                786359 non-null  int64  \n",
      " 1   accountNumber             786359 non-null  int64  \n",
      " 2   customerId                786359 non-null  int64  \n",
      " 3   creditLimit               786359 non-null  float64\n",
      " 4   availableMoney            786359 non-null  float64\n",
      " 5   transactionDateTime       786359 non-null  object \n",
      " 6   transactionAmount         786359 non-null  float64\n",
      " 7   merchantName              786359 non-null  object \n",
      " 8   acqCountry                781797 non-null  object \n",
      " 9   merchantCountryCode       785635 non-null  object \n",
      " 10  posEntryMode              782305 non-null  float64\n",
      " 11  posConditionCode          785950 non-null  float64\n",
      " 12  merchantCategoryCode      786359 non-null  object \n",
      " 13  currentExpDate            786359 non-null  object \n",
      " 14  accountOpenDate           786359 non-null  object \n",
      " 15  dateOfLastAddressChange   786359 non-null  object \n",
      " 16  cardCVV                   786359 non-null  int64  \n",
      " 17  enteredCVV                786359 non-null  int64  \n",
      " 18  cardLast4Digits           786359 non-null  int64  \n",
      " 19  transactionType           785661 non-null  object \n",
      " 20  echoBuffer                0 non-null       float64\n",
      " 21  currentBalance            786359 non-null  float64\n",
      " 22  merchantCity              0 non-null       float64\n",
      " 23  merchantState             0 non-null       float64\n",
      " 24  merchantZip               0 non-null       float64\n",
      " 25  cardPresent               786359 non-null  bool   \n",
      " 26  posOnPremises             0 non-null       float64\n",
      " 27  recurringAuthInd          0 non-null       float64\n",
      " 28  expirationDateKeyInMatch  786359 non-null  bool   \n",
      " 29  isFraud                   786359 non-null  bool   \n",
      "dtypes: bool(3), float64(12), int64(6), object(9)\n",
      "memory usage: 164.2+ MB\n"
     ]
    }
   ],
   "source": [
    "transactions.info()"
   ]
  },
  {
   "cell_type": "code",
   "execution_count": 57,
   "metadata": {},
   "outputs": [
    {
     "data": {
      "text/plain": [
       "customerId\n",
       "100088067     75\n",
       "100108752     18\n",
       "100328049    103\n",
       "100663626     31\n",
       "100737756    178\n",
       "            ... \n",
       "999086814    677\n",
       "999257059    160\n",
       "999258704     88\n",
       "999283629    141\n",
       "999389635      9\n",
       "Name: accountNumber, Length: 5000, dtype: int64"
      ]
     },
     "execution_count": 57,
     "metadata": {},
     "output_type": "execute_result"
    }
   ],
   "source": [
    "transactions.groupby('customerId')['accountNumber'].count()"
   ]
  },
  {
   "cell_type": "code",
   "execution_count": 59,
   "metadata": {},
   "outputs": [
    {
     "data": {
      "text/plain": [
       "creditLimit\n",
       "250.0       34025\n",
       "500.0       27097\n",
       "1000.0      36430\n",
       "2500.0      75429\n",
       "5000.0     201863\n",
       "7500.0      97913\n",
       "10000.0     56889\n",
       "15000.0    139307\n",
       "20000.0     68629\n",
       "50000.0     48777\n",
       "Name: creditLimit, dtype: int64"
      ]
     },
     "execution_count": 59,
     "metadata": {},
     "output_type": "execute_result"
    }
   ],
   "source": [
    "#creditLimit\n",
    "transactions.groupby('creditLimit')['creditLimit'].count()\n"
   ]
  },
  {
   "cell_type": "code",
   "execution_count": 60,
   "metadata": {},
   "outputs": [
    {
     "data": {
      "text/plain": [
       "availableMoney\n",
       "-1005.63        1\n",
       "-972.12         1\n",
       "-936.08         1\n",
       "-930.55         1\n",
       "-916.03         1\n",
       "             ... \n",
       " 49998.89       1\n",
       " 49999.43       1\n",
       " 49999.62       1\n",
       " 49999.72       1\n",
       " 50000.00    1207\n",
       "Name: availableMoney, Length: 521858, dtype: int64"
      ]
     },
     "execution_count": 60,
     "metadata": {},
     "output_type": "execute_result"
    }
   ],
   "source": [
    "#availableMoney\n",
    "transactions.groupby('availableMoney')['availableMoney'].count()\n"
   ]
  },
  {
   "cell_type": "code",
   "execution_count": 61,
   "metadata": {},
   "outputs": [
    {
     "data": {
      "text/plain": [
       "acqCountry\n",
       "CAN      2424\n",
       "MEX      3130\n",
       "PR       1538\n",
       "US     774705\n",
       "Name: acqCountry, dtype: int64"
      ]
     },
     "execution_count": 61,
     "metadata": {},
     "output_type": "execute_result"
    }
   ],
   "source": [
    "#acqCountry\n",
    "transactions.groupby('acqCountry')['acqCountry'].count()\n"
   ]
  },
  {
   "cell_type": "code",
   "execution_count": 62,
   "metadata": {},
   "outputs": [
    {
     "data": {
      "text/plain": [
       "posEntryMode\n",
       "2.0     195933\n",
       "5.0     315034\n",
       "9.0     236479\n",
       "80.0     15283\n",
       "90.0     19576\n",
       "Name: posEntryMode, dtype: int64"
      ]
     },
     "execution_count": 62,
     "metadata": {},
     "output_type": "execute_result"
    }
   ],
   "source": [
    "#posEntryMode\n",
    "transactions.groupby('posEntryMode')['posEntryMode'].count()\n"
   ]
  },
  {
   "cell_type": "code",
   "execution_count": 63,
   "metadata": {},
   "outputs": [
    {
     "data": {
      "text/plain": [
       "posConditionCode\n",
       "1.0     628784\n",
       "8.0     149634\n",
       "99.0      7532\n",
       "Name: posConditionCode, dtype: int64"
      ]
     },
     "execution_count": 63,
     "metadata": {},
     "output_type": "execute_result"
    }
   ],
   "source": [
    "#posConditionCode\n",
    "transactions.groupby('posConditionCode')['posConditionCode'].count()\n"
   ]
  },
  {
   "cell_type": "code",
   "execution_count": 64,
   "metadata": {},
   "outputs": [
    {
     "data": {
      "text/plain": [
       "merchantCategoryCode\n",
       "airline                  15412\n",
       "auto                     21651\n",
       "cable/phone               1382\n",
       "entertainment            80098\n",
       "fastfood                112138\n",
       "food                     75490\n",
       "food_delivery             6000\n",
       "fuel                     23910\n",
       "furniture                 7432\n",
       "gym                       2209\n",
       "health                   19092\n",
       "hotels                   34097\n",
       "mobileapps               14990\n",
       "online_gifts             66238\n",
       "online_retail           202155\n",
       "online_subscriptions     11066\n",
       "personal care            18964\n",
       "rideshare                51134\n",
       "subscriptions            22901\n",
       "Name: merchantCategoryCode, dtype: int64"
      ]
     },
     "execution_count": 64,
     "metadata": {},
     "output_type": "execute_result"
    }
   ],
   "source": [
    "#merchantCategoryCode\n",
    "transactions.groupby('merchantCategoryCode')['merchantCategoryCode'].count()\n"
   ]
  },
  {
   "cell_type": "code",
   "execution_count": 65,
   "metadata": {},
   "outputs": [
    {
     "data": {
      "text/plain": [
       "transactionType\n",
       "ADDRESS_VERIFICATION     20169\n",
       "PURCHASE                745189\n",
       "REVERSAL                 20303\n",
       "Name: transactionType, dtype: int64"
      ]
     },
     "execution_count": 65,
     "metadata": {},
     "output_type": "execute_result"
    }
   ],
   "source": [
    "#transactionType\n",
    "transactions.groupby('transactionType')['transactionType'].count()\n"
   ]
  },
  {
   "cell_type": "code",
   "execution_count": 66,
   "metadata": {},
   "outputs": [
    {
     "data": {
      "text/plain": [
       "Series([], Name: echoBuffer, dtype: int64)"
      ]
     },
     "execution_count": 66,
     "metadata": {},
     "output_type": "execute_result"
    }
   ],
   "source": [
    "#echoBuffer\n",
    "transactions.groupby('echoBuffer')['echoBuffer'].count()\n"
   ]
  },
  {
   "cell_type": "code",
   "execution_count": 67,
   "metadata": {},
   "outputs": [
    {
     "data": {
      "text/plain": [
       "0        NaN\n",
       "1        NaN\n",
       "2        NaN\n",
       "3        NaN\n",
       "4        NaN\n",
       "          ..\n",
       "786354   NaN\n",
       "786355   NaN\n",
       "786356   NaN\n",
       "786357   NaN\n",
       "786358   NaN\n",
       "Name: echoBuffer, Length: 786359, dtype: float64"
      ]
     },
     "execution_count": 67,
     "metadata": {},
     "output_type": "execute_result"
    }
   ],
   "source": [
    "transactions['echoBuffer']"
   ]
  },
  {
   "cell_type": "code",
   "execution_count": 68,
   "metadata": {},
   "outputs": [
    {
     "data": {
      "text/plain": [
       "Series([], Name: merchantCity, dtype: int64)"
      ]
     },
     "execution_count": 68,
     "metadata": {},
     "output_type": "execute_result"
    }
   ],
   "source": [
    "#merchantCity\n",
    "transactions.groupby('merchantCity')['merchantCity'].count()\n"
   ]
  },
  {
   "cell_type": "code",
   "execution_count": 69,
   "metadata": {},
   "outputs": [
    {
     "data": {
      "text/plain": [
       "0        NaN\n",
       "1        NaN\n",
       "2        NaN\n",
       "3        NaN\n",
       "4        NaN\n",
       "          ..\n",
       "786354   NaN\n",
       "786355   NaN\n",
       "786356   NaN\n",
       "786357   NaN\n",
       "786358   NaN\n",
       "Name: merchantCity, Length: 786359, dtype: float64"
      ]
     },
     "execution_count": 69,
     "metadata": {},
     "output_type": "execute_result"
    }
   ],
   "source": [
    "transactions['merchantCity']"
   ]
  },
  {
   "cell_type": "code",
   "execution_count": 70,
   "metadata": {},
   "outputs": [
    {
     "data": {
      "text/plain": [
       "Series([], Name: merchantState, dtype: int64)"
      ]
     },
     "execution_count": 70,
     "metadata": {},
     "output_type": "execute_result"
    }
   ],
   "source": [
    "#merchantState\n",
    "transactions.groupby('merchantState')['merchantState'].count()\n"
   ]
  },
  {
   "cell_type": "code",
   "execution_count": 71,
   "metadata": {},
   "outputs": [
    {
     "data": {
      "text/plain": [
       "Series([], Name: merchantZip, dtype: int64)"
      ]
     },
     "execution_count": 71,
     "metadata": {},
     "output_type": "execute_result"
    }
   ],
   "source": [
    "#merchantZip\n",
    "transactions.groupby('merchantZip')['merchantZip'].count()\n"
   ]
  },
  {
   "cell_type": "code",
   "execution_count": 72,
   "metadata": {},
   "outputs": [
    {
     "data": {
      "text/plain": [
       "cardPresent\n",
       "False    433491\n",
       "True     352868\n",
       "Name: cardPresent, dtype: int64"
      ]
     },
     "execution_count": 72,
     "metadata": {},
     "output_type": "execute_result"
    }
   ],
   "source": [
    "#cardPresent\n",
    "transactions.groupby('cardPresent')['cardPresent'].count()\n"
   ]
  },
  {
   "cell_type": "code",
   "execution_count": 73,
   "metadata": {},
   "outputs": [
    {
     "data": {
      "text/plain": [
       "Series([], Name: posOnPremises, dtype: int64)"
      ]
     },
     "execution_count": 73,
     "metadata": {},
     "output_type": "execute_result"
    }
   ],
   "source": [
    "#posOnPremises\n",
    "transactions.groupby('posOnPremises')['posOnPremises'].count()\n"
   ]
  },
  {
   "cell_type": "code",
   "execution_count": 74,
   "metadata": {},
   "outputs": [
    {
     "data": {
      "text/plain": [
       "Series([], Name: recurringAuthInd, dtype: int64)"
      ]
     },
     "execution_count": 74,
     "metadata": {},
     "output_type": "execute_result"
    }
   ],
   "source": [
    "#recurringAuthInd\n",
    "transactions.groupby('recurringAuthInd')['recurringAuthInd'].count()\n"
   ]
  },
  {
   "cell_type": "code",
   "execution_count": 75,
   "metadata": {},
   "outputs": [
    {
     "data": {
      "text/plain": [
       "expirationDateKeyInMatch\n",
       "False    785316\n",
       "True       1043\n",
       "Name: expirationDateKeyInMatch, dtype: int64"
      ]
     },
     "execution_count": 75,
     "metadata": {},
     "output_type": "execute_result"
    }
   ],
   "source": [
    "#expirationDateKeyInMatch\n",
    "transactions.groupby('expirationDateKeyInMatch')['expirationDateKeyInMatch'].count()"
   ]
  },
  {
   "cell_type": "code",
   "execution_count": 76,
   "metadata": {},
   "outputs": [
    {
     "data": {
      "text/plain": [
       "isFraud\n",
       "False    773942\n",
       "True      12417\n",
       "Name: isFraud, dtype: int64"
      ]
     },
     "execution_count": 76,
     "metadata": {},
     "output_type": "execute_result"
    }
   ],
   "source": [
    "#isFraud\n",
    "transactions.groupby('isFraud')['isFraud'].count()"
   ]
  },
  {
   "cell_type": "code",
   "execution_count": 77,
   "metadata": {},
   "outputs": [],
   "source": [
    "transactions=transactions.drop(['echoBuffer','merchantZip','merchantCity','merchantState','posOnPremises','recurringAuthInd'],axis=1)"
   ]
  },
  {
   "cell_type": "code",
   "execution_count": 78,
   "metadata": {},
   "outputs": [
    {
     "data": {
      "text/html": [
       "<div>\n",
       "<style scoped>\n",
       "    .dataframe tbody tr th:only-of-type {\n",
       "        vertical-align: middle;\n",
       "    }\n",
       "\n",
       "    .dataframe tbody tr th {\n",
       "        vertical-align: top;\n",
       "    }\n",
       "\n",
       "    .dataframe thead th {\n",
       "        text-align: right;\n",
       "    }\n",
       "</style>\n",
       "<table border=\"1\" class=\"dataframe\">\n",
       "  <thead>\n",
       "    <tr style=\"text-align: right;\">\n",
       "      <th></th>\n",
       "      <th>Unnamed: 0</th>\n",
       "      <th>accountNumber</th>\n",
       "      <th>customerId</th>\n",
       "      <th>creditLimit</th>\n",
       "      <th>availableMoney</th>\n",
       "      <th>transactionDateTime</th>\n",
       "      <th>transactionAmount</th>\n",
       "      <th>merchantName</th>\n",
       "      <th>acqCountry</th>\n",
       "      <th>merchantCountryCode</th>\n",
       "      <th>...</th>\n",
       "      <th>accountOpenDate</th>\n",
       "      <th>dateOfLastAddressChange</th>\n",
       "      <th>cardCVV</th>\n",
       "      <th>enteredCVV</th>\n",
       "      <th>cardLast4Digits</th>\n",
       "      <th>transactionType</th>\n",
       "      <th>currentBalance</th>\n",
       "      <th>cardPresent</th>\n",
       "      <th>expirationDateKeyInMatch</th>\n",
       "      <th>isFraud</th>\n",
       "    </tr>\n",
       "  </thead>\n",
       "  <tbody>\n",
       "    <tr>\n",
       "      <th>0</th>\n",
       "      <td>0</td>\n",
       "      <td>737265056</td>\n",
       "      <td>737265056</td>\n",
       "      <td>5000.0</td>\n",
       "      <td>5000.0</td>\n",
       "      <td>2016-08-13 14:27:32</td>\n",
       "      <td>98.55</td>\n",
       "      <td>Uber</td>\n",
       "      <td>US</td>\n",
       "      <td>US</td>\n",
       "      <td>...</td>\n",
       "      <td>2015-03-14</td>\n",
       "      <td>2015-03-14</td>\n",
       "      <td>414</td>\n",
       "      <td>414</td>\n",
       "      <td>1803</td>\n",
       "      <td>PURCHASE</td>\n",
       "      <td>0.0</td>\n",
       "      <td>False</td>\n",
       "      <td>False</td>\n",
       "      <td>False</td>\n",
       "    </tr>\n",
       "    <tr>\n",
       "      <th>1</th>\n",
       "      <td>1</td>\n",
       "      <td>737265056</td>\n",
       "      <td>737265056</td>\n",
       "      <td>5000.0</td>\n",
       "      <td>5000.0</td>\n",
       "      <td>2016-10-11 05:05:54</td>\n",
       "      <td>74.51</td>\n",
       "      <td>AMC #191138</td>\n",
       "      <td>US</td>\n",
       "      <td>US</td>\n",
       "      <td>...</td>\n",
       "      <td>2015-03-14</td>\n",
       "      <td>2015-03-14</td>\n",
       "      <td>486</td>\n",
       "      <td>486</td>\n",
       "      <td>767</td>\n",
       "      <td>PURCHASE</td>\n",
       "      <td>0.0</td>\n",
       "      <td>True</td>\n",
       "      <td>False</td>\n",
       "      <td>False</td>\n",
       "    </tr>\n",
       "    <tr>\n",
       "      <th>2</th>\n",
       "      <td>2</td>\n",
       "      <td>737265056</td>\n",
       "      <td>737265056</td>\n",
       "      <td>5000.0</td>\n",
       "      <td>5000.0</td>\n",
       "      <td>2016-11-08 09:18:39</td>\n",
       "      <td>7.47</td>\n",
       "      <td>Play Store</td>\n",
       "      <td>US</td>\n",
       "      <td>US</td>\n",
       "      <td>...</td>\n",
       "      <td>2015-03-14</td>\n",
       "      <td>2015-03-14</td>\n",
       "      <td>486</td>\n",
       "      <td>486</td>\n",
       "      <td>767</td>\n",
       "      <td>PURCHASE</td>\n",
       "      <td>0.0</td>\n",
       "      <td>False</td>\n",
       "      <td>False</td>\n",
       "      <td>False</td>\n",
       "    </tr>\n",
       "    <tr>\n",
       "      <th>3</th>\n",
       "      <td>3</td>\n",
       "      <td>737265056</td>\n",
       "      <td>737265056</td>\n",
       "      <td>5000.0</td>\n",
       "      <td>5000.0</td>\n",
       "      <td>2016-12-10 02:14:50</td>\n",
       "      <td>7.47</td>\n",
       "      <td>Play Store</td>\n",
       "      <td>US</td>\n",
       "      <td>US</td>\n",
       "      <td>...</td>\n",
       "      <td>2015-03-14</td>\n",
       "      <td>2015-03-14</td>\n",
       "      <td>486</td>\n",
       "      <td>486</td>\n",
       "      <td>767</td>\n",
       "      <td>PURCHASE</td>\n",
       "      <td>0.0</td>\n",
       "      <td>False</td>\n",
       "      <td>False</td>\n",
       "      <td>False</td>\n",
       "    </tr>\n",
       "    <tr>\n",
       "      <th>4</th>\n",
       "      <td>4</td>\n",
       "      <td>830329091</td>\n",
       "      <td>830329091</td>\n",
       "      <td>5000.0</td>\n",
       "      <td>5000.0</td>\n",
       "      <td>2016-03-24 21:04:46</td>\n",
       "      <td>71.18</td>\n",
       "      <td>Tim Hortons #947751</td>\n",
       "      <td>US</td>\n",
       "      <td>US</td>\n",
       "      <td>...</td>\n",
       "      <td>2015-08-06</td>\n",
       "      <td>2015-08-06</td>\n",
       "      <td>885</td>\n",
       "      <td>885</td>\n",
       "      <td>3143</td>\n",
       "      <td>PURCHASE</td>\n",
       "      <td>0.0</td>\n",
       "      <td>True</td>\n",
       "      <td>False</td>\n",
       "      <td>False</td>\n",
       "    </tr>\n",
       "  </tbody>\n",
       "</table>\n",
       "<p>5 rows × 24 columns</p>\n",
       "</div>"
      ],
      "text/plain": [
       "   Unnamed: 0  accountNumber  customerId  creditLimit  availableMoney  \\\n",
       "0           0      737265056   737265056       5000.0          5000.0   \n",
       "1           1      737265056   737265056       5000.0          5000.0   \n",
       "2           2      737265056   737265056       5000.0          5000.0   \n",
       "3           3      737265056   737265056       5000.0          5000.0   \n",
       "4           4      830329091   830329091       5000.0          5000.0   \n",
       "\n",
       "  transactionDateTime  transactionAmount         merchantName acqCountry  \\\n",
       "0 2016-08-13 14:27:32              98.55                 Uber         US   \n",
       "1 2016-10-11 05:05:54              74.51          AMC #191138         US   \n",
       "2 2016-11-08 09:18:39               7.47           Play Store         US   \n",
       "3 2016-12-10 02:14:50               7.47           Play Store         US   \n",
       "4 2016-03-24 21:04:46              71.18  Tim Hortons #947751         US   \n",
       "\n",
       "  merchantCountryCode  ...  accountOpenDate  dateOfLastAddressChange cardCVV  \\\n",
       "0                  US  ...       2015-03-14               2015-03-14     414   \n",
       "1                  US  ...       2015-03-14               2015-03-14     486   \n",
       "2                  US  ...       2015-03-14               2015-03-14     486   \n",
       "3                  US  ...       2015-03-14               2015-03-14     486   \n",
       "4                  US  ...       2015-08-06               2015-08-06     885   \n",
       "\n",
       "  enteredCVV cardLast4Digits transactionType  currentBalance  cardPresent  \\\n",
       "0        414            1803        PURCHASE             0.0        False   \n",
       "1        486             767        PURCHASE             0.0         True   \n",
       "2        486             767        PURCHASE             0.0        False   \n",
       "3        486             767        PURCHASE             0.0        False   \n",
       "4        885            3143        PURCHASE             0.0         True   \n",
       "\n",
       "   expirationDateKeyInMatch isFraud  \n",
       "0                     False   False  \n",
       "1                     False   False  \n",
       "2                     False   False  \n",
       "3                     False   False  \n",
       "4                     False   False  \n",
       "\n",
       "[5 rows x 24 columns]"
      ]
     },
     "execution_count": 78,
     "metadata": {},
     "output_type": "execute_result"
    }
   ],
   "source": [
    "transactions.head()"
   ]
  },
  {
   "cell_type": "code",
   "execution_count": 79,
   "metadata": {},
   "outputs": [],
   "source": [
    "transactions.to_csv('C:/Users/malipourmotlagh1/Desktop/mot/ABSOLUTE MEAN/MOTENAQEZ/Transactions fraud detection/Data/transactionsclean.csv')"
   ]
  },
  {
   "cell_type": "code",
   "execution_count": 80,
   "metadata": {},
   "outputs": [
    {
     "data": {
      "text/html": [
       "<div>\n",
       "<style scoped>\n",
       "    .dataframe tbody tr th:only-of-type {\n",
       "        vertical-align: middle;\n",
       "    }\n",
       "\n",
       "    .dataframe tbody tr th {\n",
       "        vertical-align: top;\n",
       "    }\n",
       "\n",
       "    .dataframe thead th {\n",
       "        text-align: right;\n",
       "    }\n",
       "</style>\n",
       "<table border=\"1\" class=\"dataframe\">\n",
       "  <thead>\n",
       "    <tr style=\"text-align: right;\">\n",
       "      <th></th>\n",
       "      <th>Unnamed: 0</th>\n",
       "      <th>Unnamed: 0.1</th>\n",
       "      <th>accountNumber</th>\n",
       "      <th>customerId</th>\n",
       "      <th>creditLimit</th>\n",
       "      <th>availableMoney</th>\n",
       "      <th>transactionDateTime</th>\n",
       "      <th>transactionAmount</th>\n",
       "      <th>merchantName</th>\n",
       "      <th>acqCountry</th>\n",
       "      <th>...</th>\n",
       "      <th>accountOpenDate</th>\n",
       "      <th>dateOfLastAddressChange</th>\n",
       "      <th>cardCVV</th>\n",
       "      <th>enteredCVV</th>\n",
       "      <th>cardLast4Digits</th>\n",
       "      <th>transactionType</th>\n",
       "      <th>currentBalance</th>\n",
       "      <th>cardPresent</th>\n",
       "      <th>expirationDateKeyInMatch</th>\n",
       "      <th>isFraud</th>\n",
       "    </tr>\n",
       "  </thead>\n",
       "  <tbody>\n",
       "    <tr>\n",
       "      <th>0</th>\n",
       "      <td>0</td>\n",
       "      <td>0</td>\n",
       "      <td>737265056</td>\n",
       "      <td>737265056</td>\n",
       "      <td>5000.0</td>\n",
       "      <td>5000.0</td>\n",
       "      <td>2016-08-13 14:27:32</td>\n",
       "      <td>98.55</td>\n",
       "      <td>Uber</td>\n",
       "      <td>US</td>\n",
       "      <td>...</td>\n",
       "      <td>2015-03-14 00:00:00</td>\n",
       "      <td>2015-03-14 00:00:00</td>\n",
       "      <td>414</td>\n",
       "      <td>414</td>\n",
       "      <td>1803</td>\n",
       "      <td>PURCHASE</td>\n",
       "      <td>0.0</td>\n",
       "      <td>False</td>\n",
       "      <td>False</td>\n",
       "      <td>False</td>\n",
       "    </tr>\n",
       "    <tr>\n",
       "      <th>1</th>\n",
       "      <td>1</td>\n",
       "      <td>1</td>\n",
       "      <td>737265056</td>\n",
       "      <td>737265056</td>\n",
       "      <td>5000.0</td>\n",
       "      <td>5000.0</td>\n",
       "      <td>2016-10-11 05:05:54</td>\n",
       "      <td>74.51</td>\n",
       "      <td>AMC #191138</td>\n",
       "      <td>US</td>\n",
       "      <td>...</td>\n",
       "      <td>2015-03-14 00:00:00</td>\n",
       "      <td>2015-03-14 00:00:00</td>\n",
       "      <td>486</td>\n",
       "      <td>486</td>\n",
       "      <td>767</td>\n",
       "      <td>PURCHASE</td>\n",
       "      <td>0.0</td>\n",
       "      <td>True</td>\n",
       "      <td>False</td>\n",
       "      <td>False</td>\n",
       "    </tr>\n",
       "    <tr>\n",
       "      <th>2</th>\n",
       "      <td>2</td>\n",
       "      <td>2</td>\n",
       "      <td>737265056</td>\n",
       "      <td>737265056</td>\n",
       "      <td>5000.0</td>\n",
       "      <td>5000.0</td>\n",
       "      <td>2016-11-08 09:18:39</td>\n",
       "      <td>7.47</td>\n",
       "      <td>Play Store</td>\n",
       "      <td>US</td>\n",
       "      <td>...</td>\n",
       "      <td>2015-03-14 00:00:00</td>\n",
       "      <td>2015-03-14 00:00:00</td>\n",
       "      <td>486</td>\n",
       "      <td>486</td>\n",
       "      <td>767</td>\n",
       "      <td>PURCHASE</td>\n",
       "      <td>0.0</td>\n",
       "      <td>False</td>\n",
       "      <td>False</td>\n",
       "      <td>False</td>\n",
       "    </tr>\n",
       "    <tr>\n",
       "      <th>3</th>\n",
       "      <td>3</td>\n",
       "      <td>3</td>\n",
       "      <td>737265056</td>\n",
       "      <td>737265056</td>\n",
       "      <td>5000.0</td>\n",
       "      <td>5000.0</td>\n",
       "      <td>2016-12-10 02:14:50</td>\n",
       "      <td>7.47</td>\n",
       "      <td>Play Store</td>\n",
       "      <td>US</td>\n",
       "      <td>...</td>\n",
       "      <td>2015-03-14 00:00:00</td>\n",
       "      <td>2015-03-14 00:00:00</td>\n",
       "      <td>486</td>\n",
       "      <td>486</td>\n",
       "      <td>767</td>\n",
       "      <td>PURCHASE</td>\n",
       "      <td>0.0</td>\n",
       "      <td>False</td>\n",
       "      <td>False</td>\n",
       "      <td>False</td>\n",
       "    </tr>\n",
       "    <tr>\n",
       "      <th>4</th>\n",
       "      <td>4</td>\n",
       "      <td>4</td>\n",
       "      <td>830329091</td>\n",
       "      <td>830329091</td>\n",
       "      <td>5000.0</td>\n",
       "      <td>5000.0</td>\n",
       "      <td>2016-03-24 21:04:46</td>\n",
       "      <td>71.18</td>\n",
       "      <td>Tim Hortons #947751</td>\n",
       "      <td>US</td>\n",
       "      <td>...</td>\n",
       "      <td>2015-08-06 00:00:00</td>\n",
       "      <td>2015-08-06 00:00:00</td>\n",
       "      <td>885</td>\n",
       "      <td>885</td>\n",
       "      <td>3143</td>\n",
       "      <td>PURCHASE</td>\n",
       "      <td>0.0</td>\n",
       "      <td>True</td>\n",
       "      <td>False</td>\n",
       "      <td>False</td>\n",
       "    </tr>\n",
       "  </tbody>\n",
       "</table>\n",
       "<p>5 rows × 25 columns</p>\n",
       "</div>"
      ],
      "text/plain": [
       "   Unnamed: 0  Unnamed: 0.1  accountNumber  customerId  creditLimit  \\\n",
       "0           0             0      737265056   737265056       5000.0   \n",
       "1           1             1      737265056   737265056       5000.0   \n",
       "2           2             2      737265056   737265056       5000.0   \n",
       "3           3             3      737265056   737265056       5000.0   \n",
       "4           4             4      830329091   830329091       5000.0   \n",
       "\n",
       "   availableMoney  transactionDateTime  transactionAmount  \\\n",
       "0          5000.0  2016-08-13 14:27:32              98.55   \n",
       "1          5000.0  2016-10-11 05:05:54              74.51   \n",
       "2          5000.0  2016-11-08 09:18:39               7.47   \n",
       "3          5000.0  2016-12-10 02:14:50               7.47   \n",
       "4          5000.0  2016-03-24 21:04:46              71.18   \n",
       "\n",
       "          merchantName acqCountry  ...      accountOpenDate  \\\n",
       "0                 Uber         US  ...  2015-03-14 00:00:00   \n",
       "1          AMC #191138         US  ...  2015-03-14 00:00:00   \n",
       "2           Play Store         US  ...  2015-03-14 00:00:00   \n",
       "3           Play Store         US  ...  2015-03-14 00:00:00   \n",
       "4  Tim Hortons #947751         US  ...  2015-08-06 00:00:00   \n",
       "\n",
       "   dateOfLastAddressChange  cardCVV enteredCVV cardLast4Digits  \\\n",
       "0      2015-03-14 00:00:00      414        414            1803   \n",
       "1      2015-03-14 00:00:00      486        486             767   \n",
       "2      2015-03-14 00:00:00      486        486             767   \n",
       "3      2015-03-14 00:00:00      486        486             767   \n",
       "4      2015-08-06 00:00:00      885        885            3143   \n",
       "\n",
       "  transactionType currentBalance  cardPresent  expirationDateKeyInMatch  \\\n",
       "0        PURCHASE            0.0        False                     False   \n",
       "1        PURCHASE            0.0         True                     False   \n",
       "2        PURCHASE            0.0        False                     False   \n",
       "3        PURCHASE            0.0        False                     False   \n",
       "4        PURCHASE            0.0         True                     False   \n",
       "\n",
       "   isFraud  \n",
       "0    False  \n",
       "1    False  \n",
       "2    False  \n",
       "3    False  \n",
       "4    False  \n",
       "\n",
       "[5 rows x 25 columns]"
      ]
     },
     "execution_count": 80,
     "metadata": {},
     "output_type": "execute_result"
    }
   ],
   "source": [
    "transactions=pd.read_csv('C:/Users/malipourmotlagh1/Desktop/mot/ABSOLUTE MEAN/MOTENAQEZ/Transactions fraud detection/Data/transactionsclean.csv')\n"
   ]
  },
  {
   "cell_type": "code",
   "execution_count": 86,
   "metadata": {},
   "outputs": [],
   "source": [
    "transactions=transactions.drop(['Unnamed: 0.1','Unnamed: 0'],axis=1)"
   ]
  },
  {
   "cell_type": "code",
   "execution_count": 91,
   "metadata": {},
   "outputs": [],
   "source": [
    "#converting type of relevant columns ti date time\n",
    "transactions['currentExpDate']=pd.to_datetime(transactions['currentExpDate'])\n",
    "transactions['accountOpenDate']=pd.to_datetime(transactions['accountOpenDate'])\n",
    "transactions['transactionDateTime']=pd.to_datetime(transactions['transactionDateTime'])\n",
    "transactions['dateOfLastAddressChange']=pd.to_datetime(transactions['dateOfLastAddressChange'])"
   ]
  },
  {
   "cell_type": "code",
   "execution_count": 87,
   "metadata": {},
   "outputs": [
    {
     "data": {
      "text/html": [
       "<div>\n",
       "<style scoped>\n",
       "    .dataframe tbody tr th:only-of-type {\n",
       "        vertical-align: middle;\n",
       "    }\n",
       "\n",
       "    .dataframe tbody tr th {\n",
       "        vertical-align: top;\n",
       "    }\n",
       "\n",
       "    .dataframe thead th {\n",
       "        text-align: right;\n",
       "    }\n",
       "</style>\n",
       "<table border=\"1\" class=\"dataframe\">\n",
       "  <thead>\n",
       "    <tr style=\"text-align: right;\">\n",
       "      <th></th>\n",
       "      <th>accountNumber</th>\n",
       "      <th>customerId</th>\n",
       "      <th>creditLimit</th>\n",
       "      <th>availableMoney</th>\n",
       "      <th>transactionDateTime</th>\n",
       "      <th>transactionAmount</th>\n",
       "      <th>merchantName</th>\n",
       "      <th>acqCountry</th>\n",
       "      <th>merchantCountryCode</th>\n",
       "      <th>posEntryMode</th>\n",
       "      <th>...</th>\n",
       "      <th>accountOpenDate</th>\n",
       "      <th>dateOfLastAddressChange</th>\n",
       "      <th>cardCVV</th>\n",
       "      <th>enteredCVV</th>\n",
       "      <th>cardLast4Digits</th>\n",
       "      <th>transactionType</th>\n",
       "      <th>currentBalance</th>\n",
       "      <th>cardPresent</th>\n",
       "      <th>expirationDateKeyInMatch</th>\n",
       "      <th>isFraud</th>\n",
       "    </tr>\n",
       "  </thead>\n",
       "  <tbody>\n",
       "    <tr>\n",
       "      <th>0</th>\n",
       "      <td>737265056</td>\n",
       "      <td>737265056</td>\n",
       "      <td>5000.0</td>\n",
       "      <td>5000.0</td>\n",
       "      <td>2016-08-13 14:27:32</td>\n",
       "      <td>98.55</td>\n",
       "      <td>Uber</td>\n",
       "      <td>US</td>\n",
       "      <td>US</td>\n",
       "      <td>2.0</td>\n",
       "      <td>...</td>\n",
       "      <td>2015-03-14 00:00:00</td>\n",
       "      <td>2015-03-14 00:00:00</td>\n",
       "      <td>414</td>\n",
       "      <td>414</td>\n",
       "      <td>1803</td>\n",
       "      <td>PURCHASE</td>\n",
       "      <td>0.0</td>\n",
       "      <td>False</td>\n",
       "      <td>False</td>\n",
       "      <td>False</td>\n",
       "    </tr>\n",
       "    <tr>\n",
       "      <th>1</th>\n",
       "      <td>737265056</td>\n",
       "      <td>737265056</td>\n",
       "      <td>5000.0</td>\n",
       "      <td>5000.0</td>\n",
       "      <td>2016-10-11 05:05:54</td>\n",
       "      <td>74.51</td>\n",
       "      <td>AMC #191138</td>\n",
       "      <td>US</td>\n",
       "      <td>US</td>\n",
       "      <td>9.0</td>\n",
       "      <td>...</td>\n",
       "      <td>2015-03-14 00:00:00</td>\n",
       "      <td>2015-03-14 00:00:00</td>\n",
       "      <td>486</td>\n",
       "      <td>486</td>\n",
       "      <td>767</td>\n",
       "      <td>PURCHASE</td>\n",
       "      <td>0.0</td>\n",
       "      <td>True</td>\n",
       "      <td>False</td>\n",
       "      <td>False</td>\n",
       "    </tr>\n",
       "    <tr>\n",
       "      <th>2</th>\n",
       "      <td>737265056</td>\n",
       "      <td>737265056</td>\n",
       "      <td>5000.0</td>\n",
       "      <td>5000.0</td>\n",
       "      <td>2016-11-08 09:18:39</td>\n",
       "      <td>7.47</td>\n",
       "      <td>Play Store</td>\n",
       "      <td>US</td>\n",
       "      <td>US</td>\n",
       "      <td>9.0</td>\n",
       "      <td>...</td>\n",
       "      <td>2015-03-14 00:00:00</td>\n",
       "      <td>2015-03-14 00:00:00</td>\n",
       "      <td>486</td>\n",
       "      <td>486</td>\n",
       "      <td>767</td>\n",
       "      <td>PURCHASE</td>\n",
       "      <td>0.0</td>\n",
       "      <td>False</td>\n",
       "      <td>False</td>\n",
       "      <td>False</td>\n",
       "    </tr>\n",
       "    <tr>\n",
       "      <th>3</th>\n",
       "      <td>737265056</td>\n",
       "      <td>737265056</td>\n",
       "      <td>5000.0</td>\n",
       "      <td>5000.0</td>\n",
       "      <td>2016-12-10 02:14:50</td>\n",
       "      <td>7.47</td>\n",
       "      <td>Play Store</td>\n",
       "      <td>US</td>\n",
       "      <td>US</td>\n",
       "      <td>9.0</td>\n",
       "      <td>...</td>\n",
       "      <td>2015-03-14 00:00:00</td>\n",
       "      <td>2015-03-14 00:00:00</td>\n",
       "      <td>486</td>\n",
       "      <td>486</td>\n",
       "      <td>767</td>\n",
       "      <td>PURCHASE</td>\n",
       "      <td>0.0</td>\n",
       "      <td>False</td>\n",
       "      <td>False</td>\n",
       "      <td>False</td>\n",
       "    </tr>\n",
       "    <tr>\n",
       "      <th>4</th>\n",
       "      <td>830329091</td>\n",
       "      <td>830329091</td>\n",
       "      <td>5000.0</td>\n",
       "      <td>5000.0</td>\n",
       "      <td>2016-03-24 21:04:46</td>\n",
       "      <td>71.18</td>\n",
       "      <td>Tim Hortons #947751</td>\n",
       "      <td>US</td>\n",
       "      <td>US</td>\n",
       "      <td>2.0</td>\n",
       "      <td>...</td>\n",
       "      <td>2015-08-06 00:00:00</td>\n",
       "      <td>2015-08-06 00:00:00</td>\n",
       "      <td>885</td>\n",
       "      <td>885</td>\n",
       "      <td>3143</td>\n",
       "      <td>PURCHASE</td>\n",
       "      <td>0.0</td>\n",
       "      <td>True</td>\n",
       "      <td>False</td>\n",
       "      <td>False</td>\n",
       "    </tr>\n",
       "  </tbody>\n",
       "</table>\n",
       "<p>5 rows × 23 columns</p>\n",
       "</div>"
      ],
      "text/plain": [
       "   accountNumber  customerId  creditLimit  availableMoney  \\\n",
       "0      737265056   737265056       5000.0          5000.0   \n",
       "1      737265056   737265056       5000.0          5000.0   \n",
       "2      737265056   737265056       5000.0          5000.0   \n",
       "3      737265056   737265056       5000.0          5000.0   \n",
       "4      830329091   830329091       5000.0          5000.0   \n",
       "\n",
       "   transactionDateTime  transactionAmount         merchantName acqCountry  \\\n",
       "0  2016-08-13 14:27:32              98.55                 Uber         US   \n",
       "1  2016-10-11 05:05:54              74.51          AMC #191138         US   \n",
       "2  2016-11-08 09:18:39               7.47           Play Store         US   \n",
       "3  2016-12-10 02:14:50               7.47           Play Store         US   \n",
       "4  2016-03-24 21:04:46              71.18  Tim Hortons #947751         US   \n",
       "\n",
       "  merchantCountryCode  posEntryMode  ...      accountOpenDate  \\\n",
       "0                  US           2.0  ...  2015-03-14 00:00:00   \n",
       "1                  US           9.0  ...  2015-03-14 00:00:00   \n",
       "2                  US           9.0  ...  2015-03-14 00:00:00   \n",
       "3                  US           9.0  ...  2015-03-14 00:00:00   \n",
       "4                  US           2.0  ...  2015-08-06 00:00:00   \n",
       "\n",
       "  dateOfLastAddressChange cardCVV enteredCVV cardLast4Digits  transactionType  \\\n",
       "0     2015-03-14 00:00:00     414        414            1803         PURCHASE   \n",
       "1     2015-03-14 00:00:00     486        486             767         PURCHASE   \n",
       "2     2015-03-14 00:00:00     486        486             767         PURCHASE   \n",
       "3     2015-03-14 00:00:00     486        486             767         PURCHASE   \n",
       "4     2015-08-06 00:00:00     885        885            3143         PURCHASE   \n",
       "\n",
       "   currentBalance  cardPresent expirationDateKeyInMatch  isFraud  \n",
       "0             0.0        False                    False    False  \n",
       "1             0.0         True                    False    False  \n",
       "2             0.0        False                    False    False  \n",
       "3             0.0        False                    False    False  \n",
       "4             0.0         True                    False    False  \n",
       "\n",
       "[5 rows x 23 columns]"
      ]
     },
     "execution_count": 87,
     "metadata": {},
     "output_type": "execute_result"
    }
   ],
   "source": [
    "transactions.head()"
   ]
  },
  {
   "cell_type": "code",
   "execution_count": 92,
   "metadata": {},
   "outputs": [
    {
     "name": "stdout",
     "output_type": "stream",
     "text": [
      "<class 'pandas.core.frame.DataFrame'>\n",
      "RangeIndex: 786359 entries, 0 to 786358\n",
      "Data columns (total 23 columns):\n",
      " #   Column                    Non-Null Count   Dtype         \n",
      "---  ------                    --------------   -----         \n",
      " 0   accountNumber             786359 non-null  int64         \n",
      " 1   customerId                786359 non-null  int64         \n",
      " 2   creditLimit               786359 non-null  float64       \n",
      " 3   availableMoney            786359 non-null  float64       \n",
      " 4   transactionDateTime       786359 non-null  datetime64[ns]\n",
      " 5   transactionAmount         786359 non-null  float64       \n",
      " 6   merchantName              786359 non-null  object        \n",
      " 7   acqCountry                781797 non-null  object        \n",
      " 8   merchantCountryCode       785635 non-null  object        \n",
      " 9   posEntryMode              782305 non-null  float64       \n",
      " 10  posConditionCode          785950 non-null  float64       \n",
      " 11  merchantCategoryCode      786359 non-null  object        \n",
      " 12  currentExpDate            786359 non-null  datetime64[ns]\n",
      " 13  accountOpenDate           786359 non-null  datetime64[ns]\n",
      " 14  dateOfLastAddressChange   786359 non-null  datetime64[ns]\n",
      " 15  cardCVV                   786359 non-null  int64         \n",
      " 16  enteredCVV                786359 non-null  int64         \n",
      " 17  cardLast4Digits           786359 non-null  int64         \n",
      " 18  transactionType           785661 non-null  object        \n",
      " 19  currentBalance            786359 non-null  float64       \n",
      " 20  cardPresent               786359 non-null  bool          \n",
      " 21  expirationDateKeyInMatch  786359 non-null  bool          \n",
      " 22  isFraud                   786359 non-null  bool          \n",
      "dtypes: bool(3), datetime64[ns](4), float64(6), int64(5), object(5)\n",
      "memory usage: 122.2+ MB\n"
     ]
    }
   ],
   "source": [
    "transactions.info()"
   ]
  },
  {
   "cell_type": "code",
   "execution_count": 83,
   "metadata": {},
   "outputs": [],
   "source": [
    "custid=['customerId']\n",
    "acountnumber=['accountNumber']\n",
    "target=['isFraud']\n"
   ]
  },
  {
   "cell_type": "code",
   "execution_count": 85,
   "metadata": {},
   "outputs": [
    {
     "data": {
      "text/plain": [
       "['creditLimit',\n",
       " 'acqCountry',\n",
       " 'merchantCountryCode',\n",
       " 'posEntryMode',\n",
       " 'posConditionCode',\n",
       " 'merchantCategoryCode',\n",
       " 'transactionType',\n",
       " 'cardPresent',\n",
       " 'expirationDateKeyInMatch']"
      ]
     },
     "execution_count": 85,
     "metadata": {},
     "output_type": "execute_result"
    }
   ],
   "source": [
    "categorical=transactions.nunique()[transactions.nunique()<20].keys().tolist()\n",
    "categorical.remove(target[0])\n",
    "categorical"
   ]
  },
  {
   "cell_type": "code",
   "execution_count": 101,
   "metadata": {},
   "outputs": [
    {
     "data": {
      "text/plain": [
       "['transactionDateTime',\n",
       " 'currentExpDate',\n",
       " 'accountOpenDate',\n",
       " 'dateOfLastAddressChange']"
      ]
     },
     "execution_count": 101,
     "metadata": {},
     "output_type": "execute_result"
    }
   ],
   "source": [
    "date_cols=transactions.dtypes[transactions.dtypes==\"datetime64[ns]\"].keys().tolist()\n",
    "date_cols"
   ]
  },
  {
   "cell_type": "code",
   "execution_count": 103,
   "metadata": {},
   "outputs": [
    {
     "data": {
      "text/plain": [
       "['availableMoney',\n",
       " 'transactionAmount',\n",
       " 'merchantName',\n",
       " 'cardCVV',\n",
       " 'enteredCVV',\n",
       " 'cardLast4Digits',\n",
       " 'currentBalance']"
      ]
     },
     "execution_count": 103,
     "metadata": {},
     "output_type": "execute_result"
    }
   ],
   "source": [
    "numerical=[col for col in transactions.columns\n",
    "            if col not in custid+target+categorical+date_cols+acountnumber]\n",
    "numerical"
   ]
  },
  {
   "cell_type": "code",
   "execution_count": 104,
   "metadata": {},
   "outputs": [
    {
     "data": {
      "image/png": "[encoded data removed]",
      "text/plain": [
       "<Figure size 1008x576 with 2 Axes>"
      ]
     },
     "metadata": {
      "needs_background": "light"
     },
     "output_type": "display_data"
    }
   ],
   "source": [
    "# Compute the correlation matrix\n",
    "corr = transactions.corr()\n",
    "\n",
    "# Generate a mask for the upper triangle\n",
    "mask = np.triu(np.ones_like(corr, dtype=bool))\n",
    "\n",
    "# Heatmap\n",
    "fig = plt.figure(figsize=(14,8))\n",
    "sns.heatmap(corr, annot = True,  fmt='.3f', mask = mask)\n",
    "plt.show()"
   ]
  },
  {
   "cell_type": "code",
   "execution_count": 109,
   "metadata": {},
   "outputs": [
    {
     "data": {
      "image/png": "[encoded data removed]",
      "text/plain": [
       "<Figure size 720x360 with 1 Axes>"
      ]
     },
     "metadata": {
      "needs_background": "light"
     },
     "output_type": "display_data"
    }
   ],
   "source": [
    "plt.figure(figsize=(10,5))\n",
    "sns.kdeplot(transactions.groupby('customerId')['transactionAmount'].mean(), shade=True, color=\"orange\",label=\"transactionAmount\")\n",
    "plt.axvline(transactions.groupby('customerId')['transactionAmount'].mean().mean(), color='orange')\n",
    "plt.legend()\n",
    "plt.title(\"transaction amount distribution per customer\")\n",
    "plt.show()"
   ]
  },
  {
   "cell_type": "code",
   "execution_count": 113,
   "metadata": {},
   "outputs": [
    {
     "data": {
      "image/png": "[encoded data removed]",
      "text/plain": [
       "<Figure size 720x360 with 1 Axes>"
      ]
     },
     "metadata": {
      "needs_background": "light"
     },
     "output_type": "display_data"
    }
   ],
   "source": [
    "plt.figure(figsize=(10,5))\n",
    "sns.kdeplot(transactions.groupby('customerId')['currentBalance'].mean(), shade=True, color=\"red\",label=\"currentBalance\")\n",
    "plt.axvline(transactions.groupby('customerId')['currentBalance'].mean().mean(), color='red')\n",
    "plt.legend()\n",
    "plt.title(\"current Balance amount distribution per customer\")\n",
    "plt.show()"
   ]
  },
  {
   "cell_type": "code",
   "execution_count": 108,
   "metadata": {},
   "outputs": [
    {
     "data": {
      "image/png": "[encoded data removed]",
      "text/plain": [
       "<Figure size 720x360 with 1 Axes>"
      ]
     },
     "metadata": {
      "needs_background": "light"
     },
     "output_type": "display_data"
    }
   ],
   "source": [
    "plt.figure(figsize=(10,5))\n",
    "sns.kdeplot(transactions.groupby('customerId')['availableMoney'].mean(), shade=True, color=\"b\",label=\"availableMoney\")\n",
    "plt.axvline(transactions.groupby('customerId')['availableMoney'].mean().mean(), color='b')\n",
    "plt.legend()\n",
    "plt.title(\"available money distribution per customer\")\n",
    "plt.show()"
   ]
  },
  {
   "cell_type": "code",
   "execution_count": 138,
   "metadata": {},
   "outputs": [
    {
     "data": {
      "image/png": "[encoded data removed]",
      "text/plain": [
       "<Figure size 648x360 with 1 Axes>"
      ]
     },
     "metadata": {
      "needs_background": "light"
     },
     "output_type": "display_data"
    }
   ],
   "source": [
    "# Card issued by account_length\n",
    "fig, ax = plt.subplots(figsize=(9, 5))\n",
    "x= transactions.groupby('creditLimit')['accountNumber'].nunique().values\n",
    "y= transactions.groupby('creditLimit')['creditLimit'].count().index\n",
    "y=y.astype(str)\n",
    "ax.set_title('number of accounts in diferent groups of credit limits')\n",
    "plt.bar(y,x,color=sns.color_palette(\"pastel\",len(x)))\n",
    "ax.set_xlabel('Credit limits')\n",
    "ax.set_ylabel('Number of accounts')\n",
    "plt.show()"
   ]
  },
  {
   "cell_type": "code",
   "execution_count": 131,
   "metadata": {},
   "outputs": [
    {
     "data": {
      "text/plain": [
       "array([ 265,  234,  240,  499, 1031,  750,  484,  773,  478,  246],\n",
       "      dtype=int64)"
      ]
     },
     "execution_count": 131,
     "metadata": {},
     "output_type": "execute_result"
    }
   ],
   "source": [
    "x"
   ]
  },
  {
   "cell_type": "code",
   "execution_count": 132,
   "metadata": {},
   "outputs": [
    {
     "data": {
      "text/plain": [
       "Float64Index([  250.0,   500.0,  1000.0,  2500.0,  5000.0,  7500.0, 10000.0,\n",
       "              15000.0, 20000.0, 50000.0],\n",
       "             dtype='float64', name='creditLimit')"
      ]
     },
     "execution_count": 132,
     "metadata": {},
     "output_type": "execute_result"
    }
   ],
   "source": [
    "y"
   ]
  },
  {
   "cell_type": "code",
   "execution_count": 142,
   "metadata": {},
   "outputs": [
    {
     "data": {
      "image/png": "[encoded data removed]",
      "text/plain": [
       "<Figure size 648x360 with 1 Axes>"
      ]
     },
     "metadata": {
      "needs_background": "light"
     },
     "output_type": "display_data"
    }
   ],
   "source": [
    "# Card issued by account_length\n",
    "fig, ax = plt.subplots(figsize=(9, 5))\n",
    "x= transactions.groupby('acqCountry')['accountNumber'].nunique().values\n",
    "y= transactions.groupby('acqCountry')['acqCountry'].count().index\n",
    "y=y.astype(str)\n",
    "ax.set_title('number of accounts in diferent countries')\n",
    "plt.bar(y,x,color=sns.color_palette(\"bright\",len(x)))\n",
    "ax.set_xlabel('Countries')\n",
    "ax.set_ylabel('Number of accounts')\n",
    "plt.show()"
   ]
  },
  {
   "cell_type": "code",
   "execution_count": 143,
   "metadata": {},
   "outputs": [
    {
     "data": {
      "text/plain": [
       "Index(['CAN', 'MEX', 'PR', 'US'], dtype='object', name='acqCountry')"
      ]
     },
     "execution_count": 143,
     "metadata": {},
     "output_type": "execute_result"
    }
   ],
   "source": [
    "transactions.groupby('acqCountry')['acqCountry'].count().index"
   ]
  },
  {
   "cell_type": "code",
   "execution_count": 145,
   "metadata": {},
   "outputs": [
    {
     "data": {
      "text/plain": [
       "merchantCountryCode\n",
       "CAN      2426\n",
       "MEX      3143\n",
       "PR       1559\n",
       "US     778507\n",
       "Name: merchantCountryCode, dtype: int64"
      ]
     },
     "execution_count": 145,
     "metadata": {},
     "output_type": "execute_result"
    }
   ],
   "source": [
    "transactions.groupby('merchantCountryCode')['merchantCountryCode'].count()"
   ]
  },
  {
   "cell_type": "code",
   "execution_count": 146,
   "metadata": {},
   "outputs": [
    {
     "data": {
      "image/png": "[encoded data removed]",
      "text/plain": [
       "<Figure size 648x360 with 1 Axes>"
      ]
     },
     "metadata": {
      "needs_background": "light"
     },
     "output_type": "display_data"
    }
   ],
   "source": [
    "# Card issued by account_length\n",
    "fig, ax = plt.subplots(figsize=(9, 5))\n",
    "x= transactions.groupby('merchantCountryCode')['accountNumber'].nunique().values\n",
    "y= transactions.groupby('merchantCountryCode')['merchantCountryCode'].count().index\n",
    "y=y.astype(str)\n",
    "ax.set_title('number of accounts in diferent countries')\n",
    "plt.bar(y,x,color=sns.color_palette(\"bright\",len(x)))\n",
    "ax.set_xlabel('Countries')\n",
    "ax.set_ylabel('Number of accounts')\n",
    "plt.show()"
   ]
  }
 ],
 "metadata": {
  "interpreter": {
   "hash": "861e7fac2ba2b6f9d64ead0503e46283684408d87c21528cf77f10639b9bcb80"
  },
  "kernelspec": {
   "display_name": "Python 3.9.9 64-bit (windows store)",
   "language": "python",
   "name": "python3"
  },
  "language_info": {
   "codemirror_mode": {
    "name": "ipython",
    "version": 3
   },
   "file_extension": ".py",
   "mimetype": "text/x-python",
   "name": "python",
   "nbconvert_exporter": "python",
   "pygments_lexer": "ipython3",
   "version": "3.9.7"
  },
  "orig_nbformat": 4
 },
 "nbformat": 4,
 "nbformat_minor": 2
}
